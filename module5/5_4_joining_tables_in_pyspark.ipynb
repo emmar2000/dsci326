{
 "cells": [
  {
   "cell_type": "markdown",
   "metadata": {
    "id": "sCZY7My-WsG_"
   },
   "source": [
    "# Joins in `pyspark`\n",
    "\n",
    "Performed with `df_left.join(df_right, how=type_str)`"
   ]
  },
  {
   "cell_type": "code",
   "execution_count": 1,
   "metadata": {
    "colab": {
     "base_uri": "https://localhost:8080/",
     "height": 173
    },
    "id": "N6O7UrO-WsHF",
    "outputId": "22cb60f5-06b9-4f87-f9f5-e748c2b32277"
   },
   "outputs": [
    {
     "name": "stdout",
     "output_type": "stream",
     "text": [
      "22/10/27 07:57:42 WARN Utils: Your hostname, kg3597wc201 resolves to a loopback address: 127.0.1.1; using 192.168.1.248 instead (on interface wifi0)\n",
      "22/10/27 07:57:42 WARN Utils: Set SPARK_LOCAL_IP if you need to bind to another address\n"
     ]
    },
    {
     "name": "stderr",
     "output_type": "stream",
     "text": [
      "Setting default log level to \"WARN\".\n",
      "To adjust logging level use sc.setLogLevel(newLevel). For SparkR, use setLogLevel(newLevel).\n"
     ]
    },
    {
     "name": "stdout",
     "output_type": "stream",
     "text": [
      "22/10/27 07:57:44 WARN NativeCodeLoader: Unable to load native-hadoop library for your platform... using builtin-java classes where applicable\n"
     ]
    },
    {
     "data": {
      "text/html": [
       "<div>\n",
       "<style scoped>\n",
       "    .dataframe tbody tr th:only-of-type {\n",
       "        vertical-align: middle;\n",
       "    }\n",
       "\n",
       "    .dataframe tbody tr th {\n",
       "        vertical-align: top;\n",
       "    }\n",
       "\n",
       "    .dataframe thead th {\n",
       "        text-align: right;\n",
       "    }\n",
       "</style>\n",
       "<table border=\"1\" class=\"dataframe\">\n",
       "  <thead>\n",
       "    <tr style=\"text-align: right;\">\n",
       "      <th></th>\n",
       "      <th>DeptID</th>\n",
       "      <th>DeptName</th>\n",
       "    </tr>\n",
       "  </thead>\n",
       "  <tbody>\n",
       "    <tr>\n",
       "      <th>0</th>\n",
       "      <td>31</td>\n",
       "      <td>Sales</td>\n",
       "    </tr>\n",
       "    <tr>\n",
       "      <th>1</th>\n",
       "      <td>33</td>\n",
       "      <td>Engineering</td>\n",
       "    </tr>\n",
       "    <tr>\n",
       "      <th>2</th>\n",
       "      <td>34</td>\n",
       "      <td>Clerical</td>\n",
       "    </tr>\n",
       "    <tr>\n",
       "      <th>3</th>\n",
       "      <td>35</td>\n",
       "      <td>Marketing</td>\n",
       "    </tr>\n",
       "  </tbody>\n",
       "</table>\n",
       "</div>"
      ],
      "text/plain": [
       "   DeptID     DeptName\n",
       "0      31        Sales\n",
       "1      33  Engineering\n",
       "2      34     Clerical\n",
       "3      35    Marketing"
      ]
     },
     "execution_count": 1,
     "metadata": {},
     "output_type": "execute_result"
    }
   ],
   "source": [
    "from pyspark.sql import SparkSession\n",
    "from more_pyspark import to_pandas\n",
    "spark = SparkSession.builder.appName('Ops').getOrCreate()\n",
    "spark.sparkContext.setLogLevel(\"ERROR\")\n",
    "dept = spark.read.csv(\"./data/department.csv\",  header=True, inferSchema=True)\n",
    "dept.collect() >> to_pandas"
   ]
  },
  {
   "cell_type": "code",
   "execution_count": 2,
   "metadata": {
    "colab": {
     "base_uri": "https://localhost:8080/",
     "height": 235
    },
    "id": "5kS1jQohWsHI",
    "outputId": "2622fa48-1e7f-4f94-e2d4-bc690d08a05d"
   },
   "outputs": [
    {
     "data": {
      "text/html": [
       "<div>\n",
       "<style scoped>\n",
       "    .dataframe tbody tr th:only-of-type {\n",
       "        vertical-align: middle;\n",
       "    }\n",
       "\n",
       "    .dataframe tbody tr th {\n",
       "        vertical-align: top;\n",
       "    }\n",
       "\n",
       "    .dataframe thead th {\n",
       "        text-align: right;\n",
       "    }\n",
       "</style>\n",
       "<table border=\"1\" class=\"dataframe\">\n",
       "  <thead>\n",
       "    <tr style=\"text-align: right;\">\n",
       "      <th></th>\n",
       "      <th>LastName</th>\n",
       "      <th>DeptID</th>\n",
       "    </tr>\n",
       "  </thead>\n",
       "  <tbody>\n",
       "    <tr>\n",
       "      <th>0</th>\n",
       "      <td>Rafferty</td>\n",
       "      <td>31.0</td>\n",
       "    </tr>\n",
       "    <tr>\n",
       "      <th>1</th>\n",
       "      <td>Jones</td>\n",
       "      <td>33.0</td>\n",
       "    </tr>\n",
       "    <tr>\n",
       "      <th>2</th>\n",
       "      <td>Heisenberg</td>\n",
       "      <td>33.0</td>\n",
       "    </tr>\n",
       "    <tr>\n",
       "      <th>3</th>\n",
       "      <td>Robinson</td>\n",
       "      <td>34.0</td>\n",
       "    </tr>\n",
       "    <tr>\n",
       "      <th>4</th>\n",
       "      <td>Smith</td>\n",
       "      <td>34.0</td>\n",
       "    </tr>\n",
       "    <tr>\n",
       "      <th>5</th>\n",
       "      <td>Williams</td>\n",
       "      <td>NaN</td>\n",
       "    </tr>\n",
       "  </tbody>\n",
       "</table>\n",
       "</div>"
      ],
      "text/plain": [
       "     LastName  DeptID\n",
       "0    Rafferty    31.0\n",
       "1       Jones    33.0\n",
       "2  Heisenberg    33.0\n",
       "3    Robinson    34.0\n",
       "4       Smith    34.0\n",
       "5    Williams     NaN"
      ]
     },
     "execution_count": 2,
     "metadata": {},
     "output_type": "execute_result"
    }
   ],
   "source": [
    "empl = spark.read.csv(\"./data/employee.csv\",  header=True, inferSchema=True)\n",
    "empl.collect() >> to_pandas"
   ]
  },
  {
   "cell_type": "markdown",
   "metadata": {
    "id": "wJoYU2H-WsHJ"
   },
   "source": [
    "#### Inner join"
   ]
  },
  {
   "cell_type": "code",
   "execution_count": 3,
   "metadata": {
    "colab": {
     "base_uri": "https://localhost:8080/",
     "height": 204
    },
    "id": "kHWnfWe7WsHJ",
    "outputId": "b787b789-7c3b-4c4c-dc50-95c1d576968d"
   },
   "outputs": [
    {
     "data": {
      "text/html": [
       "<div>\n",
       "<style scoped>\n",
       "    .dataframe tbody tr th:only-of-type {\n",
       "        vertical-align: middle;\n",
       "    }\n",
       "\n",
       "    .dataframe tbody tr th {\n",
       "        vertical-align: top;\n",
       "    }\n",
       "\n",
       "    .dataframe thead th {\n",
       "        text-align: right;\n",
       "    }\n",
       "</style>\n",
       "<table border=\"1\" class=\"dataframe\">\n",
       "  <thead>\n",
       "    <tr style=\"text-align: right;\">\n",
       "      <th></th>\n",
       "      <th>LastName</th>\n",
       "      <th>DeptID</th>\n",
       "      <th>DeptName</th>\n",
       "    </tr>\n",
       "  </thead>\n",
       "  <tbody>\n",
       "    <tr>\n",
       "      <th>0</th>\n",
       "      <td>Rafferty</td>\n",
       "      <td>31</td>\n",
       "      <td>Sales</td>\n",
       "    </tr>\n",
       "    <tr>\n",
       "      <th>1</th>\n",
       "      <td>Jones</td>\n",
       "      <td>33</td>\n",
       "      <td>Engineering</td>\n",
       "    </tr>\n",
       "    <tr>\n",
       "      <th>2</th>\n",
       "      <td>Heisenberg</td>\n",
       "      <td>33</td>\n",
       "      <td>Engineering</td>\n",
       "    </tr>\n",
       "    <tr>\n",
       "      <th>3</th>\n",
       "      <td>Robinson</td>\n",
       "      <td>34</td>\n",
       "      <td>Clerical</td>\n",
       "    </tr>\n",
       "    <tr>\n",
       "      <th>4</th>\n",
       "      <td>Smith</td>\n",
       "      <td>34</td>\n",
       "      <td>Clerical</td>\n",
       "    </tr>\n",
       "  </tbody>\n",
       "</table>\n",
       "</div>"
      ],
      "text/plain": [
       "     LastName  DeptID     DeptName\n",
       "0    Rafferty      31        Sales\n",
       "1       Jones      33  Engineering\n",
       "2  Heisenberg      33  Engineering\n",
       "3    Robinson      34     Clerical\n",
       "4       Smith      34     Clerical"
      ]
     },
     "execution_count": 3,
     "metadata": {},
     "output_type": "execute_result"
    }
   ],
   "source": [
    "(empl.join(dept, empl.DeptID == dept.DeptID, how='inner')\n",
    " .collect()) >> to_pandas"
   ]
  },
  {
   "cell_type": "markdown",
   "metadata": {
    "id": "WWbFvkGNWsHK"
   },
   "source": [
    "#### Left join"
   ]
  },
  {
   "cell_type": "code",
   "execution_count": 4,
   "metadata": {
    "colab": {
     "base_uri": "https://localhost:8080/",
     "height": 235
    },
    "id": "mLOscmieWsHK",
    "outputId": "c9d09c1e-b092-4475-c1b0-e491131f02c8"
   },
   "outputs": [
    {
     "data": {
      "text/html": [
       "<div>\n",
       "<style scoped>\n",
       "    .dataframe tbody tr th:only-of-type {\n",
       "        vertical-align: middle;\n",
       "    }\n",
       "\n",
       "    .dataframe tbody tr th {\n",
       "        vertical-align: top;\n",
       "    }\n",
       "\n",
       "    .dataframe thead th {\n",
       "        text-align: right;\n",
       "    }\n",
       "</style>\n",
       "<table border=\"1\" class=\"dataframe\">\n",
       "  <thead>\n",
       "    <tr style=\"text-align: right;\">\n",
       "      <th></th>\n",
       "      <th>LastName</th>\n",
       "      <th>DeptID</th>\n",
       "      <th>DeptName</th>\n",
       "    </tr>\n",
       "  </thead>\n",
       "  <tbody>\n",
       "    <tr>\n",
       "      <th>0</th>\n",
       "      <td>Rafferty</td>\n",
       "      <td>31.0</td>\n",
       "      <td>Sales</td>\n",
       "    </tr>\n",
       "    <tr>\n",
       "      <th>1</th>\n",
       "      <td>Jones</td>\n",
       "      <td>33.0</td>\n",
       "      <td>Engineering</td>\n",
       "    </tr>\n",
       "    <tr>\n",
       "      <th>2</th>\n",
       "      <td>Heisenberg</td>\n",
       "      <td>33.0</td>\n",
       "      <td>Engineering</td>\n",
       "    </tr>\n",
       "    <tr>\n",
       "      <th>3</th>\n",
       "      <td>Robinson</td>\n",
       "      <td>34.0</td>\n",
       "      <td>Clerical</td>\n",
       "    </tr>\n",
       "    <tr>\n",
       "      <th>4</th>\n",
       "      <td>Smith</td>\n",
       "      <td>34.0</td>\n",
       "      <td>Clerical</td>\n",
       "    </tr>\n",
       "    <tr>\n",
       "      <th>5</th>\n",
       "      <td>Williams</td>\n",
       "      <td>NaN</td>\n",
       "      <td>None</td>\n",
       "    </tr>\n",
       "  </tbody>\n",
       "</table>\n",
       "</div>"
      ],
      "text/plain": [
       "     LastName  DeptID     DeptName\n",
       "0    Rafferty    31.0        Sales\n",
       "1       Jones    33.0  Engineering\n",
       "2  Heisenberg    33.0  Engineering\n",
       "3    Robinson    34.0     Clerical\n",
       "4       Smith    34.0     Clerical\n",
       "5    Williams     NaN         None"
      ]
     },
     "execution_count": 4,
     "metadata": {},
     "output_type": "execute_result"
    }
   ],
   "source": [
    "(empl.join(dept, empl.DeptID == dept.DeptID, how='left')\n",
    " .collect()) >> to_pandas"
   ]
  },
  {
   "cell_type": "markdown",
   "metadata": {
    "id": "X24B3LiRWsHL"
   },
   "source": [
    "#### Right join"
   ]
  },
  {
   "cell_type": "code",
   "execution_count": 5,
   "metadata": {
    "colab": {
     "base_uri": "https://localhost:8080/",
     "height": 235
    },
    "id": "7yt7DldlWsHL",
    "outputId": "1800d304-b8dd-4858-f868-35da5be3e08c",
    "scrolled": true
   },
   "outputs": [
    {
     "data": {
      "text/html": [
       "<div>\n",
       "<style scoped>\n",
       "    .dataframe tbody tr th:only-of-type {\n",
       "        vertical-align: middle;\n",
       "    }\n",
       "\n",
       "    .dataframe tbody tr th {\n",
       "        vertical-align: top;\n",
       "    }\n",
       "\n",
       "    .dataframe thead th {\n",
       "        text-align: right;\n",
       "    }\n",
       "</style>\n",
       "<table border=\"1\" class=\"dataframe\">\n",
       "  <thead>\n",
       "    <tr style=\"text-align: right;\">\n",
       "      <th></th>\n",
       "      <th>LastName</th>\n",
       "      <th>DeptID</th>\n",
       "      <th>DeptName</th>\n",
       "    </tr>\n",
       "  </thead>\n",
       "  <tbody>\n",
       "    <tr>\n",
       "      <th>0</th>\n",
       "      <td>Rafferty</td>\n",
       "      <td>31</td>\n",
       "      <td>Sales</td>\n",
       "    </tr>\n",
       "    <tr>\n",
       "      <th>1</th>\n",
       "      <td>Heisenberg</td>\n",
       "      <td>33</td>\n",
       "      <td>Engineering</td>\n",
       "    </tr>\n",
       "    <tr>\n",
       "      <th>2</th>\n",
       "      <td>Jones</td>\n",
       "      <td>33</td>\n",
       "      <td>Engineering</td>\n",
       "    </tr>\n",
       "    <tr>\n",
       "      <th>3</th>\n",
       "      <td>Smith</td>\n",
       "      <td>34</td>\n",
       "      <td>Clerical</td>\n",
       "    </tr>\n",
       "    <tr>\n",
       "      <th>4</th>\n",
       "      <td>Robinson</td>\n",
       "      <td>34</td>\n",
       "      <td>Clerical</td>\n",
       "    </tr>\n",
       "    <tr>\n",
       "      <th>5</th>\n",
       "      <td>None</td>\n",
       "      <td>35</td>\n",
       "      <td>Marketing</td>\n",
       "    </tr>\n",
       "  </tbody>\n",
       "</table>\n",
       "</div>"
      ],
      "text/plain": [
       "     LastName  DeptID     DeptName\n",
       "0    Rafferty      31        Sales\n",
       "1  Heisenberg      33  Engineering\n",
       "2       Jones      33  Engineering\n",
       "3       Smith      34     Clerical\n",
       "4    Robinson      34     Clerical\n",
       "5        None      35    Marketing"
      ]
     },
     "execution_count": 5,
     "metadata": {},
     "output_type": "execute_result"
    }
   ],
   "source": [
    "(empl.join(dept, empl.DeptID == dept.DeptID, how='right')\n",
    " .collect()) >> to_pandas"
   ]
  },
  {
   "cell_type": "markdown",
   "metadata": {
    "id": "LCFMCHXKWsHM"
   },
   "source": [
    "#### Outer join"
   ]
  },
  {
   "cell_type": "code",
   "execution_count": 6,
   "metadata": {
    "colab": {
     "base_uri": "https://localhost:8080/",
     "height": 266
    },
    "id": "R17T8Uq-WsHN",
    "outputId": "d3a3484d-87a0-46b1-ebed-6edfb4d6d6b2"
   },
   "outputs": [
    {
     "name": "stderr",
     "output_type": "stream",
     "text": [
      "                                                                                \r"
     ]
    },
    {
     "data": {
      "text/html": [
       "<div>\n",
       "<style scoped>\n",
       "    .dataframe tbody tr th:only-of-type {\n",
       "        vertical-align: middle;\n",
       "    }\n",
       "\n",
       "    .dataframe tbody tr th {\n",
       "        vertical-align: top;\n",
       "    }\n",
       "\n",
       "    .dataframe thead th {\n",
       "        text-align: right;\n",
       "    }\n",
       "</style>\n",
       "<table border=\"1\" class=\"dataframe\">\n",
       "  <thead>\n",
       "    <tr style=\"text-align: right;\">\n",
       "      <th></th>\n",
       "      <th>LastName</th>\n",
       "      <th>DeptID</th>\n",
       "      <th>DeptName</th>\n",
       "    </tr>\n",
       "  </thead>\n",
       "  <tbody>\n",
       "    <tr>\n",
       "      <th>0</th>\n",
       "      <td>Williams</td>\n",
       "      <td>NaN</td>\n",
       "      <td>None</td>\n",
       "    </tr>\n",
       "    <tr>\n",
       "      <th>1</th>\n",
       "      <td>Rafferty</td>\n",
       "      <td>31.0</td>\n",
       "      <td>Sales</td>\n",
       "    </tr>\n",
       "    <tr>\n",
       "      <th>2</th>\n",
       "      <td>Jones</td>\n",
       "      <td>33.0</td>\n",
       "      <td>Engineering</td>\n",
       "    </tr>\n",
       "    <tr>\n",
       "      <th>3</th>\n",
       "      <td>Heisenberg</td>\n",
       "      <td>33.0</td>\n",
       "      <td>Engineering</td>\n",
       "    </tr>\n",
       "    <tr>\n",
       "      <th>4</th>\n",
       "      <td>Robinson</td>\n",
       "      <td>34.0</td>\n",
       "      <td>Clerical</td>\n",
       "    </tr>\n",
       "    <tr>\n",
       "      <th>5</th>\n",
       "      <td>Smith</td>\n",
       "      <td>34.0</td>\n",
       "      <td>Clerical</td>\n",
       "    </tr>\n",
       "    <tr>\n",
       "      <th>6</th>\n",
       "      <td>None</td>\n",
       "      <td>35.0</td>\n",
       "      <td>Marketing</td>\n",
       "    </tr>\n",
       "  </tbody>\n",
       "</table>\n",
       "</div>"
      ],
      "text/plain": [
       "     LastName  DeptID     DeptName\n",
       "0    Williams     NaN         None\n",
       "1    Rafferty    31.0        Sales\n",
       "2       Jones    33.0  Engineering\n",
       "3  Heisenberg    33.0  Engineering\n",
       "4    Robinson    34.0     Clerical\n",
       "5       Smith    34.0     Clerical\n",
       "6        None    35.0    Marketing"
      ]
     },
     "execution_count": 6,
     "metadata": {},
     "output_type": "execute_result"
    }
   ],
   "source": [
    "(empl.join(dept, empl.DeptID == dept.DeptID, how='outer')\n",
    " .collect()) >> to_pandas"
   ]
  },
  {
   "cell_type": "markdown",
   "metadata": {
    "id": "r8ax1-rgWsHN"
   },
   "source": [
    "## Joining on multiple keys\n",
    "\n",
    "Next, we will look at table joins that require matching multiple keys."
   ]
  },
  {
   "cell_type": "markdown",
   "metadata": {
    "id": "TgbF4zZjWsHO"
   },
   "source": [
    "### Example -- Total At Bats, Hits, and Runs Allowed in 2010\n",
    "\n",
    "To illustrate joining on multiple keys, lets\n",
    "\n",
    "1. Compute the totals for AB, H, and R in 2010 for each team from the `Pitching` table.\n",
    "2. Join on the team name and park.\n",
    "\n",
    "This is a good example, because team information can change over the years, so we need to match both `teamID` and `yearID`."
   ]
  },
  {
   "cell_type": "markdown",
   "metadata": {
    "id": "fZenmGJOWsHP"
   },
   "source": [
    "#### Step 1. Read and process the pitching table"
   ]
  },
  {
   "cell_type": "code",
   "execution_count": 7,
   "metadata": {
    "colab": {
     "base_uri": "https://localhost:8080/",
     "height": 233
    },
    "id": "3CyMumvaWsHP",
    "outputId": "c76eb26b-cded-43e3-f97d-2b68119d86b5"
   },
   "outputs": [
    {
     "name": "stderr",
     "output_type": "stream",
     "text": [
      "                                                                                \r"
     ]
    },
    {
     "data": {
      "text/html": [
       "<div>\n",
       "<style scoped>\n",
       "    .dataframe tbody tr th:only-of-type {\n",
       "        vertical-align: middle;\n",
       "    }\n",
       "\n",
       "    .dataframe tbody tr th {\n",
       "        vertical-align: top;\n",
       "    }\n",
       "\n",
       "    .dataframe thead th {\n",
       "        text-align: right;\n",
       "    }\n",
       "</style>\n",
       "<table border=\"1\" class=\"dataframe\">\n",
       "  <thead>\n",
       "    <tr style=\"text-align: right;\">\n",
       "      <th></th>\n",
       "      <th>playerID</th>\n",
       "      <th>yearID</th>\n",
       "      <th>stint</th>\n",
       "      <th>teamID</th>\n",
       "      <th>lgID</th>\n",
       "      <th>G</th>\n",
       "      <th>AB</th>\n",
       "      <th>R</th>\n",
       "      <th>H</th>\n",
       "      <th>2B</th>\n",
       "      <th>...</th>\n",
       "      <th>RBI</th>\n",
       "      <th>SB</th>\n",
       "      <th>CS</th>\n",
       "      <th>BB</th>\n",
       "      <th>SO</th>\n",
       "      <th>IBB</th>\n",
       "      <th>HBP</th>\n",
       "      <th>SH</th>\n",
       "      <th>SF</th>\n",
       "      <th>GIDP</th>\n",
       "    </tr>\n",
       "  </thead>\n",
       "  <tbody>\n",
       "    <tr>\n",
       "      <th>0</th>\n",
       "      <td>abercda01</td>\n",
       "      <td>1871</td>\n",
       "      <td>1</td>\n",
       "      <td>TRO</td>\n",
       "      <td>NA</td>\n",
       "      <td>1</td>\n",
       "      <td>4</td>\n",
       "      <td>0</td>\n",
       "      <td>0</td>\n",
       "      <td>0</td>\n",
       "      <td>...</td>\n",
       "      <td>0</td>\n",
       "      <td>0</td>\n",
       "      <td>0</td>\n",
       "      <td>0</td>\n",
       "      <td>0</td>\n",
       "      <td>None</td>\n",
       "      <td>None</td>\n",
       "      <td>None</td>\n",
       "      <td>None</td>\n",
       "      <td>0</td>\n",
       "    </tr>\n",
       "    <tr>\n",
       "      <th>1</th>\n",
       "      <td>addybo01</td>\n",
       "      <td>1871</td>\n",
       "      <td>1</td>\n",
       "      <td>RC1</td>\n",
       "      <td>NA</td>\n",
       "      <td>25</td>\n",
       "      <td>118</td>\n",
       "      <td>30</td>\n",
       "      <td>32</td>\n",
       "      <td>6</td>\n",
       "      <td>...</td>\n",
       "      <td>13</td>\n",
       "      <td>8</td>\n",
       "      <td>1</td>\n",
       "      <td>4</td>\n",
       "      <td>0</td>\n",
       "      <td>None</td>\n",
       "      <td>None</td>\n",
       "      <td>None</td>\n",
       "      <td>None</td>\n",
       "      <td>0</td>\n",
       "    </tr>\n",
       "    <tr>\n",
       "      <th>2</th>\n",
       "      <td>allisar01</td>\n",
       "      <td>1871</td>\n",
       "      <td>1</td>\n",
       "      <td>CL1</td>\n",
       "      <td>NA</td>\n",
       "      <td>29</td>\n",
       "      <td>137</td>\n",
       "      <td>28</td>\n",
       "      <td>40</td>\n",
       "      <td>4</td>\n",
       "      <td>...</td>\n",
       "      <td>19</td>\n",
       "      <td>3</td>\n",
       "      <td>1</td>\n",
       "      <td>2</td>\n",
       "      <td>5</td>\n",
       "      <td>None</td>\n",
       "      <td>None</td>\n",
       "      <td>None</td>\n",
       "      <td>None</td>\n",
       "      <td>1</td>\n",
       "    </tr>\n",
       "    <tr>\n",
       "      <th>3</th>\n",
       "      <td>allisdo01</td>\n",
       "      <td>1871</td>\n",
       "      <td>1</td>\n",
       "      <td>WS3</td>\n",
       "      <td>NA</td>\n",
       "      <td>27</td>\n",
       "      <td>133</td>\n",
       "      <td>28</td>\n",
       "      <td>44</td>\n",
       "      <td>10</td>\n",
       "      <td>...</td>\n",
       "      <td>27</td>\n",
       "      <td>1</td>\n",
       "      <td>1</td>\n",
       "      <td>0</td>\n",
       "      <td>2</td>\n",
       "      <td>None</td>\n",
       "      <td>None</td>\n",
       "      <td>None</td>\n",
       "      <td>None</td>\n",
       "      <td>0</td>\n",
       "    </tr>\n",
       "    <tr>\n",
       "      <th>4</th>\n",
       "      <td>ansonca01</td>\n",
       "      <td>1871</td>\n",
       "      <td>1</td>\n",
       "      <td>RC1</td>\n",
       "      <td>NA</td>\n",
       "      <td>25</td>\n",
       "      <td>120</td>\n",
       "      <td>29</td>\n",
       "      <td>39</td>\n",
       "      <td>11</td>\n",
       "      <td>...</td>\n",
       "      <td>16</td>\n",
       "      <td>6</td>\n",
       "      <td>2</td>\n",
       "      <td>2</td>\n",
       "      <td>1</td>\n",
       "      <td>None</td>\n",
       "      <td>None</td>\n",
       "      <td>None</td>\n",
       "      <td>None</td>\n",
       "      <td>0</td>\n",
       "    </tr>\n",
       "  </tbody>\n",
       "</table>\n",
       "<p>5 rows × 22 columns</p>\n",
       "</div>"
      ],
      "text/plain": [
       "    playerID  yearID  stint teamID lgID   G   AB   R   H  2B  ...  RBI  SB  \\\n",
       "0  abercda01    1871      1    TRO   NA   1    4   0   0   0  ...    0   0   \n",
       "1   addybo01    1871      1    RC1   NA  25  118  30  32   6  ...   13   8   \n",
       "2  allisar01    1871      1    CL1   NA  29  137  28  40   4  ...   19   3   \n",
       "3  allisdo01    1871      1    WS3   NA  27  133  28  44  10  ...   27   1   \n",
       "4  ansonca01    1871      1    RC1   NA  25  120  29  39  11  ...   16   6   \n",
       "\n",
       "   CS  BB  SO   IBB   HBP    SH    SF GIDP  \n",
       "0   0   0   0  None  None  None  None    0  \n",
       "1   1   4   0  None  None  None  None    0  \n",
       "2   1   2   5  None  None  None  None    1  \n",
       "3   1   0   2  None  None  None  None    0  \n",
       "4   2   2   1  None  None  None  None    0  \n",
       "\n",
       "[5 rows x 22 columns]"
      ]
     },
     "execution_count": 7,
     "metadata": {},
     "output_type": "execute_result"
    }
   ],
   "source": [
    "pitching = spark.read.csv(\"./data/baseball/core/Batting.csv\", header=True, inferSchema=True)\n",
    "\n",
    "(pitching\n",
    " .take(5)\n",
    ") >> to_pandas"
   ]
  },
  {
   "cell_type": "code",
   "execution_count": 8,
   "metadata": {
    "colab": {
     "base_uri": "https://localhost:8080/",
     "height": 204
    },
    "id": "WU2wRHweWsHQ",
    "outputId": "94778399-120f-4957-aa11-5f5339e191e9"
   },
   "outputs": [
    {
     "name": "stderr",
     "output_type": "stream",
     "text": [
      "                                                                                \r"
     ]
    },
    {
     "data": {
      "text/html": [
       "<div>\n",
       "<style scoped>\n",
       "    .dataframe tbody tr th:only-of-type {\n",
       "        vertical-align: middle;\n",
       "    }\n",
       "\n",
       "    .dataframe tbody tr th {\n",
       "        vertical-align: top;\n",
       "    }\n",
       "\n",
       "    .dataframe thead th {\n",
       "        text-align: right;\n",
       "    }\n",
       "</style>\n",
       "<table border=\"1\" class=\"dataframe\">\n",
       "  <thead>\n",
       "    <tr style=\"text-align: right;\">\n",
       "      <th></th>\n",
       "      <th>teamID</th>\n",
       "      <th>yearID</th>\n",
       "      <th>Total At Bats</th>\n",
       "      <th>Total Runs</th>\n",
       "      <th>Total Hits</th>\n",
       "    </tr>\n",
       "  </thead>\n",
       "  <tbody>\n",
       "    <tr>\n",
       "      <th>0</th>\n",
       "      <td>MIN</td>\n",
       "      <td>2010</td>\n",
       "      <td>5568</td>\n",
       "      <td>781</td>\n",
       "      <td>1521</td>\n",
       "    </tr>\n",
       "    <tr>\n",
       "      <th>1</th>\n",
       "      <td>CHA</td>\n",
       "      <td>2010</td>\n",
       "      <td>5484</td>\n",
       "      <td>752</td>\n",
       "      <td>1467</td>\n",
       "    </tr>\n",
       "    <tr>\n",
       "      <th>2</th>\n",
       "      <td>TOR</td>\n",
       "      <td>2010</td>\n",
       "      <td>5495</td>\n",
       "      <td>755</td>\n",
       "      <td>1364</td>\n",
       "    </tr>\n",
       "    <tr>\n",
       "      <th>3</th>\n",
       "      <td>FLO</td>\n",
       "      <td>2010</td>\n",
       "      <td>5531</td>\n",
       "      <td>719</td>\n",
       "      <td>1403</td>\n",
       "    </tr>\n",
       "    <tr>\n",
       "      <th>4</th>\n",
       "      <td>TBA</td>\n",
       "      <td>2010</td>\n",
       "      <td>5439</td>\n",
       "      <td>802</td>\n",
       "      <td>1343</td>\n",
       "    </tr>\n",
       "  </tbody>\n",
       "</table>\n",
       "</div>"
      ],
      "text/plain": [
       "  teamID  yearID  Total At Bats  Total Runs  Total Hits\n",
       "0    MIN    2010           5568         781        1521\n",
       "1    CHA    2010           5484         752        1467\n",
       "2    TOR    2010           5495         755        1364\n",
       "3    FLO    2010           5531         719        1403\n",
       "4    TBA    2010           5439         802        1343"
      ]
     },
     "execution_count": 8,
     "metadata": {},
     "output_type": "execute_result"
    }
   ],
   "source": [
    "from pyspark.sql.functions import mean, stddev, col, sum\n",
    "\n",
    "team_totals_2010 = (pitching\n",
    "                    .select('teamID', 'yearID', 'AB', 'R', 'H')\n",
    "                    .where(col('yearID') == 2010)\n",
    "                    .groupBy(col('teamID'), col('yearID'))\n",
    "                    .agg(sum('AB').alias('Total At Bats'),\n",
    "                         sum('R').alias('Total Runs'), \n",
    "                         sum('H').alias('Total Hits'))\n",
    "                   )\n",
    "\n",
    "team_totals_2010.take(5) >> to_pandas"
   ]
  },
  {
   "cell_type": "markdown",
   "metadata": {
    "id": "8KThZR_XWsHR"
   },
   "source": [
    "#### Step 2. Read and process the teams table"
   ]
  },
  {
   "cell_type": "code",
   "execution_count": 9,
   "metadata": {
    "colab": {
     "base_uri": "https://localhost:8080/",
     "height": 204
    },
    "id": "1raZFaEuWsHR",
    "outputId": "dd54c126-dcdc-41f3-8bc2-5d3b1a4ec6b0"
   },
   "outputs": [
    {
     "data": {
      "text/html": [
       "<div>\n",
       "<style scoped>\n",
       "    .dataframe tbody tr th:only-of-type {\n",
       "        vertical-align: middle;\n",
       "    }\n",
       "\n",
       "    .dataframe tbody tr th {\n",
       "        vertical-align: top;\n",
       "    }\n",
       "\n",
       "    .dataframe thead th {\n",
       "        text-align: right;\n",
       "    }\n",
       "</style>\n",
       "<table border=\"1\" class=\"dataframe\">\n",
       "  <thead>\n",
       "    <tr style=\"text-align: right;\">\n",
       "      <th></th>\n",
       "      <th>yearID</th>\n",
       "      <th>teamID</th>\n",
       "      <th>Team Name</th>\n",
       "      <th>park</th>\n",
       "    </tr>\n",
       "  </thead>\n",
       "  <tbody>\n",
       "    <tr>\n",
       "      <th>0</th>\n",
       "      <td>1871</td>\n",
       "      <td>BS1</td>\n",
       "      <td>Boston Red Stockings</td>\n",
       "      <td>South End Grounds I</td>\n",
       "    </tr>\n",
       "    <tr>\n",
       "      <th>1</th>\n",
       "      <td>1871</td>\n",
       "      <td>CH1</td>\n",
       "      <td>Chicago White Stockings</td>\n",
       "      <td>Union Base-Ball Grounds</td>\n",
       "    </tr>\n",
       "    <tr>\n",
       "      <th>2</th>\n",
       "      <td>1871</td>\n",
       "      <td>CL1</td>\n",
       "      <td>Cleveland Forest Citys</td>\n",
       "      <td>National Association Grounds</td>\n",
       "    </tr>\n",
       "    <tr>\n",
       "      <th>3</th>\n",
       "      <td>1871</td>\n",
       "      <td>FW1</td>\n",
       "      <td>Fort Wayne Kekiongas</td>\n",
       "      <td>Hamilton Field</td>\n",
       "    </tr>\n",
       "    <tr>\n",
       "      <th>4</th>\n",
       "      <td>1871</td>\n",
       "      <td>NY2</td>\n",
       "      <td>New York Mutuals</td>\n",
       "      <td>Union Grounds (Brooklyn)</td>\n",
       "    </tr>\n",
       "  </tbody>\n",
       "</table>\n",
       "</div>"
      ],
      "text/plain": [
       "   yearID teamID                Team Name                          park\n",
       "0    1871    BS1     Boston Red Stockings           South End Grounds I\n",
       "1    1871    CH1  Chicago White Stockings       Union Base-Ball Grounds\n",
       "2    1871    CL1   Cleveland Forest Citys  National Association Grounds\n",
       "3    1871    FW1     Fort Wayne Kekiongas                Hamilton Field\n",
       "4    1871    NY2         New York Mutuals      Union Grounds (Brooklyn)"
      ]
     },
     "execution_count": 9,
     "metadata": {},
     "output_type": "execute_result"
    }
   ],
   "source": [
    "teams = spark.read.csv(\"./data/baseball/core/Teams.csv\", header=True, inferSchema=True)\n",
    "\n",
    "team_name_and_park = (teams\n",
    "                     .select('yearID', 'teamID', col('name').alias('Team Name'), 'park')\n",
    "                     )\n",
    "              \n",
    "team_name_and_park.take(5) >> to_pandas"
   ]
  },
  {
   "cell_type": "markdown",
   "metadata": {
    "id": "2AXpf3ufWsHS"
   },
   "source": [
    "#### Step 3. Perform a left-join.\n",
    "\n",
    "Since we want to keep all rows in the totals table, and only add the team information when available, we will perform a left join on the totals table.\n",
    "\n",
    "Notice that the second `on` argument is now a `list` of column expressions, one for each matching rule."
   ]
  },
  {
   "cell_type": "code",
   "execution_count": 10,
   "metadata": {
    "colab": {
     "base_uri": "https://localhost:8080/",
     "height": 204
    },
    "id": "oe2fGbX7WsHS",
    "outputId": "91551173-c643-4979-da51-df19bf4e2b28"
   },
   "outputs": [
    {
     "name": "stderr",
     "output_type": "stream",
     "text": [
      "                                                                                \r"
     ]
    },
    {
     "data": {
      "text/html": [
       "<div>\n",
       "<style scoped>\n",
       "    .dataframe tbody tr th:only-of-type {\n",
       "        vertical-align: middle;\n",
       "    }\n",
       "\n",
       "    .dataframe tbody tr th {\n",
       "        vertical-align: top;\n",
       "    }\n",
       "\n",
       "    .dataframe thead th {\n",
       "        text-align: right;\n",
       "    }\n",
       "</style>\n",
       "<table border=\"1\" class=\"dataframe\">\n",
       "  <thead>\n",
       "    <tr style=\"text-align: right;\">\n",
       "      <th></th>\n",
       "      <th>teamID</th>\n",
       "      <th>yearID</th>\n",
       "      <th>Total At Bats</th>\n",
       "      <th>Total Runs</th>\n",
       "      <th>Total Hits</th>\n",
       "      <th>Team Name</th>\n",
       "      <th>park</th>\n",
       "    </tr>\n",
       "  </thead>\n",
       "  <tbody>\n",
       "    <tr>\n",
       "      <th>0</th>\n",
       "      <td>MIN</td>\n",
       "      <td>2010</td>\n",
       "      <td>5568</td>\n",
       "      <td>781</td>\n",
       "      <td>1521</td>\n",
       "      <td>Minnesota Twins</td>\n",
       "      <td>Target Field</td>\n",
       "    </tr>\n",
       "    <tr>\n",
       "      <th>1</th>\n",
       "      <td>CHA</td>\n",
       "      <td>2010</td>\n",
       "      <td>5484</td>\n",
       "      <td>752</td>\n",
       "      <td>1467</td>\n",
       "      <td>Chicago White Sox</td>\n",
       "      <td>U.S. Cellular Field</td>\n",
       "    </tr>\n",
       "    <tr>\n",
       "      <th>2</th>\n",
       "      <td>TOR</td>\n",
       "      <td>2010</td>\n",
       "      <td>5495</td>\n",
       "      <td>755</td>\n",
       "      <td>1364</td>\n",
       "      <td>Toronto Blue Jays</td>\n",
       "      <td>Rogers Centre</td>\n",
       "    </tr>\n",
       "    <tr>\n",
       "      <th>3</th>\n",
       "      <td>FLO</td>\n",
       "      <td>2010</td>\n",
       "      <td>5531</td>\n",
       "      <td>719</td>\n",
       "      <td>1403</td>\n",
       "      <td>Florida Marlins</td>\n",
       "      <td>Dolphin Stadium</td>\n",
       "    </tr>\n",
       "    <tr>\n",
       "      <th>4</th>\n",
       "      <td>TBA</td>\n",
       "      <td>2010</td>\n",
       "      <td>5439</td>\n",
       "      <td>802</td>\n",
       "      <td>1343</td>\n",
       "      <td>Tampa Bay Rays</td>\n",
       "      <td>Tropicana Field</td>\n",
       "    </tr>\n",
       "  </tbody>\n",
       "</table>\n",
       "</div>"
      ],
      "text/plain": [
       "  teamID  yearID  Total At Bats  Total Runs  Total Hits          Team Name  \\\n",
       "0    MIN    2010           5568         781        1521    Minnesota Twins   \n",
       "1    CHA    2010           5484         752        1467  Chicago White Sox   \n",
       "2    TOR    2010           5495         755        1364  Toronto Blue Jays   \n",
       "3    FLO    2010           5531         719        1403    Florida Marlins   \n",
       "4    TBA    2010           5439         802        1343     Tampa Bay Rays   \n",
       "\n",
       "                  park  \n",
       "0         Target Field  \n",
       "1  U.S. Cellular Field  \n",
       "2        Rogers Centre  \n",
       "3      Dolphin Stadium  \n",
       "4      Tropicana Field  "
      ]
     },
     "execution_count": 10,
     "metadata": {},
     "output_type": "execute_result"
    }
   ],
   "source": [
    "(team_totals_2010\n",
    ".join(team_name_and_park,\n",
    "      on = [team_totals_2010.yearID == team_name_and_park.yearID,\n",
    "            team_totals_2010.teamID == team_name_and_park.teamID],\n",
    "      how='left')\n",
    ".take(5)\n",
    ") >> to_pandas"
   ]
  },
  {
   "cell_type": "code",
   "execution_count": 11,
   "metadata": {
    "colab": {
     "base_uri": "https://localhost:8080/",
     "height": 204
    },
    "id": "oe2fGbX7WsHS",
    "outputId": "91551173-c643-4979-da51-df19bf4e2b28"
   },
   "outputs": [
    {
     "name": "stderr",
     "output_type": "stream",
     "text": [
      "                                                                                \r"
     ]
    },
    {
     "data": {
      "text/html": [
       "<div>\n",
       "<style scoped>\n",
       "    .dataframe tbody tr th:only-of-type {\n",
       "        vertical-align: middle;\n",
       "    }\n",
       "\n",
       "    .dataframe tbody tr th {\n",
       "        vertical-align: top;\n",
       "    }\n",
       "\n",
       "    .dataframe thead th {\n",
       "        text-align: right;\n",
       "    }\n",
       "</style>\n",
       "<table border=\"1\" class=\"dataframe\">\n",
       "  <thead>\n",
       "    <tr style=\"text-align: right;\">\n",
       "      <th></th>\n",
       "      <th>yearID</th>\n",
       "      <th>teamID</th>\n",
       "      <th>Total At Bats</th>\n",
       "      <th>Total Runs</th>\n",
       "      <th>Total Hits</th>\n",
       "      <th>Team Name</th>\n",
       "      <th>park</th>\n",
       "    </tr>\n",
       "  </thead>\n",
       "  <tbody>\n",
       "    <tr>\n",
       "      <th>0</th>\n",
       "      <td>2010</td>\n",
       "      <td>MIN</td>\n",
       "      <td>5568</td>\n",
       "      <td>781</td>\n",
       "      <td>1521</td>\n",
       "      <td>Minnesota Twins</td>\n",
       "      <td>Target Field</td>\n",
       "    </tr>\n",
       "    <tr>\n",
       "      <th>1</th>\n",
       "      <td>2010</td>\n",
       "      <td>CHA</td>\n",
       "      <td>5484</td>\n",
       "      <td>752</td>\n",
       "      <td>1467</td>\n",
       "      <td>Chicago White Sox</td>\n",
       "      <td>U.S. Cellular Field</td>\n",
       "    </tr>\n",
       "    <tr>\n",
       "      <th>2</th>\n",
       "      <td>2010</td>\n",
       "      <td>TOR</td>\n",
       "      <td>5495</td>\n",
       "      <td>755</td>\n",
       "      <td>1364</td>\n",
       "      <td>Toronto Blue Jays</td>\n",
       "      <td>Rogers Centre</td>\n",
       "    </tr>\n",
       "    <tr>\n",
       "      <th>3</th>\n",
       "      <td>2010</td>\n",
       "      <td>FLO</td>\n",
       "      <td>5531</td>\n",
       "      <td>719</td>\n",
       "      <td>1403</td>\n",
       "      <td>Florida Marlins</td>\n",
       "      <td>Dolphin Stadium</td>\n",
       "    </tr>\n",
       "    <tr>\n",
       "      <th>4</th>\n",
       "      <td>2010</td>\n",
       "      <td>TBA</td>\n",
       "      <td>5439</td>\n",
       "      <td>802</td>\n",
       "      <td>1343</td>\n",
       "      <td>Tampa Bay Rays</td>\n",
       "      <td>Tropicana Field</td>\n",
       "    </tr>\n",
       "  </tbody>\n",
       "</table>\n",
       "</div>"
      ],
      "text/plain": [
       "   yearID teamID  Total At Bats  Total Runs  Total Hits          Team Name  \\\n",
       "0    2010    MIN           5568         781        1521    Minnesota Twins   \n",
       "1    2010    CHA           5484         752        1467  Chicago White Sox   \n",
       "2    2010    TOR           5495         755        1364  Toronto Blue Jays   \n",
       "3    2010    FLO           5531         719        1403    Florida Marlins   \n",
       "4    2010    TBA           5439         802        1343     Tampa Bay Rays   \n",
       "\n",
       "                  park  \n",
       "0         Target Field  \n",
       "1  U.S. Cellular Field  \n",
       "2        Rogers Centre  \n",
       "3      Dolphin Stadium  \n",
       "4      Tropicana Field  "
      ]
     },
     "execution_count": 11,
     "metadata": {},
     "output_type": "execute_result"
    }
   ],
   "source": [
    "(team_totals_2010\n",
    ".join(team_name_and_park,\n",
    "      on = [\"yearID\", \"teamID\"],\n",
    "      how='left')\n",
    ".take(5)\n",
    ") >> to_pandas"
   ]
  },
  {
   "cell_type": "markdown",
   "metadata": {
    "id": "J-HPkqBJWsHT"
   },
   "source": [
    "## <font color=\"red\"> Exercise 2 </font>\n",
    "\n",
    "Determine all the players that have hit more than 100 home runs in a season.  The final table should include the players proper name, as well as the team name.  \n",
    "\n",
    "**Hint:** You will need join the files listed below.  To get credit for this exercise, use the join `pyspark` join methods presented above."
   ]
  },
  {
   "cell_type": "code",
   "execution_count": 12,
   "metadata": {
    "id": "jsjtnTb3WsHU"
   },
   "outputs": [],
   "source": [
    "paths = (\"./data/baseball/core/Batting.csv\", \n",
    "         \"./data/baseball/core/People.csv\",\n",
    "         \"./data/baseball/core/Teams.csv\")"
   ]
  },
  {
   "cell_type": "code",
   "execution_count": 13,
   "metadata": {},
   "outputs": [],
   "source": [
    "batting, people, teams = [spark.read.csv(path, header=True, inferSchema=True) for path in paths]"
   ]
  },
  {
   "cell_type": "raw",
   "metadata": {},
   "source": [
    "# code from 2_9\n",
    "\n",
    "(batting\n",
    "    >> select(X.playerID, X.yearID, X.teamID, X.HR)\n",
    "    >> filter_by(X.HR > 100) # summing stints doesn't matter or we would do that before this part\n",
    "    >> inner_join(teams, by=[\"teamID\", \"yearID\"])\n",
    "    >> inner_join(people, by=\"playerID\")\n",
    "    >> mutate(FullName = X.nameGiven + \" \" + X.nameLast) # I'd use an f-string, but those apparently don't work\n",
    "    >> select(X.HR_x, X.yearID, X.FullName, X.name)\n",
    "    >> rename(TeamName=X.name, Year=X.yearID, HomeRuns=X.HR_x)\n",
    "    >> arrange(X.HomeRuns, X.Year, ascending=(False, True)) # sort by homeruns descending, then year ascending\n",
    ")"
   ]
  },
  {
   "cell_type": "code",
   "execution_count": 14,
   "metadata": {
    "id": "H-HPCeUMWsHU"
   },
   "outputs": [
    {
     "data": {
      "text/plain": [
       "[]"
      ]
     },
     "execution_count": 14,
     "metadata": {},
     "output_type": "execute_result"
    }
   ],
   "source": [
    "# Recall from 2_9 that there are none but we'll do it anyways\n",
    "# Tested with threshold of 60 HR.\n",
    "from pyspark.sql.functions import concat_ws\n",
    "\n",
    "(batting\n",
    "    .select(\"playerID\", \"yearID\", \"teamID\", \"HR\")\n",
    "    .where(col(\"HR\") > 100)\n",
    "    .join(teams, on=[\"teamID\", \"yearID\"], how=\"inner\")\n",
    "    .join(people, on=\"playerID\", how=\"inner\")\n",
    "    .withColumn(\"FullName\", concat_ws(\" \", col('nameGiven'), col('nameLast')))\n",
    "    .select(batting.HR, col(\"yearID\").alias(\"Year\"), \"FullName\", col(\"name\").alias(\"TeamName\"),)\n",
    "    .sort(col(\"HR\").desc(), col(\"Year\").asc())\n",
    "    .collect()\n",
    ")\n",
    "# doing to_pandas will cause error because there are no rows"
   ]
  }
 ],
 "metadata": {
  "colab": {
   "provenance": []
  },
  "kernelspec": {
   "display_name": "Python 3 (ipykernel)",
   "language": "python",
   "name": "python3"
  },
  "language_info": {
   "codemirror_mode": {
    "name": "ipython",
    "version": 3
   },
   "file_extension": ".py",
   "mimetype": "text/x-python",
   "name": "python",
   "nbconvert_exporter": "python",
   "pygments_lexer": "ipython3",
   "version": "3.10.6"
  },
  "varInspector": {
   "cols": {
    "lenName": 16,
    "lenType": 16,
    "lenVar": 40
   },
   "kernels_config": {
    "python": {
     "delete_cmd_postfix": "",
     "delete_cmd_prefix": "del ",
     "library": "var_list.py",
     "varRefreshCmd": "print(var_dic_list())"
    },
    "r": {
     "delete_cmd_postfix": ") ",
     "delete_cmd_prefix": "rm(",
     "library": "var_list.r",
     "varRefreshCmd": "cat(var_dic_list()) "
    }
   },
   "types_to_exclude": [
    "module",
    "function",
    "builtin_function_or_method",
    "instance",
    "_Feature"
   ],
   "window_display": false
  }
 },
 "nbformat": 4,
 "nbformat_minor": 1
}
