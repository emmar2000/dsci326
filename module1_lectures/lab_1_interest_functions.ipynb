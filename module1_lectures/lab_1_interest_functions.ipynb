{
 "cells": [
  {
   "cell_type": "markdown",
   "metadata": {},
   "source": [
    "## Lab 1 - Compound Interest Functions\n",
    "\n",
    "Below you will find a table of important formulae related to compound interest.  \n",
    "\n",
    "<img src=\"https://www.dummies.com/wp-content/uploads/251689.image0.jpg\" alt=\"image0.jpg\" width=\"400\" height=\"319\">\n",
    "\n",
    "In this lab, you will create functions for each of these using (and documenting) the following workflow.\n",
    "\n",
    "1. Work out the correct answer for a few examples. *Hint* Search for e.g. \"worked out compound interest examples\" on the web.\n",
    "2. Write a `lambda` function and test this function on your test cases.\n",
    "3. Convert the `lambda` function to a `def` statement with an informative doc string that follows the [Google formating rules](https://google.github.io/styleguide/pyguide.html#383-functions-and-methods).\n",
    "4. Write an automated test function (using your previous examples) that will test your `def` statement function each time the code is executed."
   ]
  },
  {
   "cell_type": "markdown",
   "metadata": {},
   "source": [
    "#### Problem 1 -- Apply the process to create a simple interest functions."
   ]
  },
  {
   "cell_type": "code",
   "execution_count": 1,
   "metadata": {},
   "outputs": [],
   "source": [
    "from typing import Callable"
   ]
  },
  {
   "cell_type": "code",
   "execution_count": 2,
   "metadata": {
    "scrolled": true
   },
   "outputs": [
    {
     "data": {
      "text/plain": [
       "1000.0"
      ]
     },
     "execution_count": 2,
     "metadata": {},
     "output_type": "execute_result"
    }
   ],
   "source": [
    "simp: Callable[[float, float, int], float] = lambda p,r,t: p*r*t\n",
    "simp(1000, 0.5, 2)"
   ]
  },
  {
   "cell_type": "code",
   "execution_count": 3,
   "metadata": {},
   "outputs": [],
   "source": [
    "def compute_simple_interest(principal: float, rate: float, time: int) -> float:\n",
    "    \"\"\"Calculates simple interest.\n",
    "\n",
    "    Args:\n",
    "        principal: base amount\n",
    "        rate: interest rate expressed as decimal\n",
    "        t: time period as number of years\n",
    "\n",
    "    Returns:\n",
    "        Calculated value according to formula I = Prt\n",
    "    \"\"\"\n",
    "    return principal*rate*time"
   ]
  },
  {
   "cell_type": "code",
   "execution_count": 4,
   "metadata": {},
   "outputs": [],
   "source": [
    "def test_simple_interest() -> None:\n",
    "    assert compute_simple_interest(5000, 0, 5) == 0\n",
    "    assert compute_simple_interest(0, 0.5, 1) == 0\n",
    "    assert compute_simple_interest(5000, .5, 0) == 0\n",
    "    assert compute_simple_interest(1000, 0.5, 2) == 1000\n",
    "    assert compute_simple_interest(500, 0.04, 2) == 40\n",
    "\n",
    "test_simple_interest()"
   ]
  },
  {
   "cell_type": "markdown",
   "metadata": {},
   "source": [
    "#### Problem 2 -- Apply the process to create a compound interest functions."
   ]
  },
  {
   "cell_type": "code",
   "execution_count": 5,
   "metadata": {
    "scrolled": true
   },
   "outputs": [
    {
     "data": {
      "text/plain": [
       "6050.000000000001"
      ]
     },
     "execution_count": 5,
     "metadata": {},
     "output_type": "execute_result"
    }
   ],
   "source": [
    "cmp: Callable[[float, float, int, int], float] = lambda p,r,n,t: p * (1+ r/n)**(n*t)\n",
    "cmp(5000, .1, 1, 2)"
   ]
  },
  {
   "cell_type": "code",
   "execution_count": 6,
   "metadata": {},
   "outputs": [],
   "source": [
    "def compute_compound_interest(principal: float, rate: float, compoundings: int, years: int) -> float:\n",
    "    \"\"\"Calculates compound interest.\n",
    "\n",
    "    Args:\n",
    "        principal: base amount\n",
    "        rate: annual interest rate expressed as decimal\n",
    "        compoundings: number of times to compound in a year\n",
    "        years: length of loan term\n",
    "\n",
    "      Returns:\n",
    "        Calculated value according to P(1 + r/n) ^ (nt)\n",
    "    \"\"\"\n",
    "    return principal * (1 + rate/compoundings) ** (compoundings * years)"
   ]
  },
  {
   "cell_type": "code",
   "execution_count": 7,
   "metadata": {},
   "outputs": [],
   "source": [
    "def test_compound_interest() -> None:\n",
    "    # With floats, the value might not be exactly the same. Better to use round.\n",
    "    assert compute_compound_interest(0, 0.03, 12, 6) == 0\n",
    "    assert compute_compound_interest(5000, 0, 12, 5) == 5000\n",
    "    assert compute_compound_interest(5000, 0.05, 12, 0) == 5000    \n",
    "    assert round(compute_compound_interest(5000, 0.03, 12, 6), 2) == 5984.74\n",
    "    assert round(compute_compound_interest(5000, 0.06, 4, 5),2) == 6734.28\n",
    "    assert round(compute_compound_interest(5000, 0.05, 1, 5), 2) == 6381.41\n",
    "\n",
    "test_compound_interest()"
   ]
  },
  {
   "cell_type": "markdown",
   "metadata": {},
   "source": [
    "#### Problem 3 -- Apply the process to create a amortized loan payment function."
   ]
  },
  {
   "cell_type": "code",
   "execution_count": 8,
   "metadata": {},
   "outputs": [
    {
     "data": {
      "text/plain": [
       "3165.5697695369427"
      ]
     },
     "execution_count": 8,
     "metadata": {},
     "output_type": "execute_result"
    }
   ],
   "source": [
    "amort_loan: Callable[[float, float, int], float] = lambda p, i, n: p*i / (1 - (1+i) **(-n))\n",
    "amort_loan(12000, .1, 5)"
   ]
  },
  {
   "cell_type": "code",
   "execution_count": 9,
   "metadata": {},
   "outputs": [],
   "source": [
    "def compute_amort_loan_payment(principal: float, rate: float , num_payments: int) -> float:\n",
    "    \"\"\"Calculates required payment for amortizing a loan compounded annually\n",
    "    Note: this will not calculate monthly payments correctly\n",
    "\n",
    "    Args:\n",
    "        principal: amount borrowed\n",
    "        rate: annual interest rate expressed as decimal\n",
    "        num_payments: total payments to be made\n",
    "\n",
    "    Returns:\n",
    "        Value of each payment\n",
    "    \"\"\"\n",
    "    return principal * rate / (1 - (1 + rate) ** (-num_payments))"
   ]
  },
  {
   "cell_type": "code",
   "execution_count": 10,
   "metadata": {},
   "outputs": [],
   "source": [
    "def test_amort_loan_payment() -> None:\n",
    "    assert compute_amort_loan_payment(0, 0.05, 24) == 0\n",
    "    assert round(compute_amort_loan_payment(5000, .1, 1), 2) == 5500.00\n",
    "    assert round(compute_amort_loan_payment(25000, 0.06, 4) ,2) == 7214.79\n",
    "    \n",
    "test_amort_loan_payment()"
   ]
  },
  {
   "cell_type": "markdown",
   "metadata": {},
   "source": [
    "#### Problem 4 -- Apply the process to create a remaining balance function"
   ]
  },
  {
   "cell_type": "code",
   "execution_count": 11,
   "metadata": {},
   "outputs": [
    {
     "data": {
      "text/plain": [
       "8002.389296854004"
      ]
     },
     "execution_count": 11,
     "metadata": {},
     "output_type": "execute_result"
    }
   ],
   "source": [
    "rem_bal: Callable[[float, float, int, int], float] = lambda r,i,n,x: r * (1 - (1+i)** -(n-x)) / i\n",
    "rem_bal(1500, .1, 10,2)"
   ]
  },
  {
   "cell_type": "code",
   "execution_count": 12,
   "metadata": {},
   "outputs": [],
   "source": [
    "def compute_remaining_balance(regular_payment: float, rate: float, total_payments: int, payments_made: int) -> float:\n",
    "    \"\"\"Calculates remaining balance on a loan.\n",
    "\n",
    "    Args:\n",
    "        regular_payment: amount of each payment\n",
    "        rate: annual interest rate expressed as decimal\n",
    "        total_payments: total number of payments needed\n",
    "        payments_made: number of payments which have already been made\n",
    "\n",
    "    Returns:\n",
    "        Value of remaining loan balance\n",
    "    \"\"\"\n",
    "    return regular_payment * (1 - (1+rate)** -(total_payments-payments_made)) / rate"
   ]
  },
  {
   "cell_type": "code",
   "execution_count": 13,
   "metadata": {},
   "outputs": [],
   "source": [
    "def test_remaining_balance() -> None:\n",
    "    assert round(compute_remaining_balance(1500, .1, 10, 0), 2) == 9216.85\n",
    "    assert round(compute_remaining_balance(1500, .1, 10, 2), 2) == 8002.39\n",
    "    assert round(compute_remaining_balance(1500, .1, 10, 10), 2) == 0\n",
    "\n",
    "test_remaining_balance()"
   ]
  }
 ],
 "metadata": {
  "kernelspec": {
   "display_name": "Python 3 (ipykernel)",
   "language": "python",
   "name": "python3"
  },
  "language_info": {
   "codemirror_mode": {
    "name": "ipython",
    "version": 3
   },
   "file_extension": ".py",
   "mimetype": "text/x-python",
   "name": "python",
   "nbconvert_exporter": "python",
   "pygments_lexer": "ipython3",
   "version": "3.10.4"
  }
 },
 "nbformat": 4,
 "nbformat_minor": 2
}
