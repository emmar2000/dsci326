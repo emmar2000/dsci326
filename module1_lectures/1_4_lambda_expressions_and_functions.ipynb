{
 "cells": [
  {
   "cell_type": "markdown",
   "metadata": {
    "nbpresent": {
     "id": "72b0ede6-af2b-41e9-81af-16c345e658d3"
    },
    "slideshow": {
     "slide_type": "slide"
    }
   },
   "source": [
    "# Lambda Expressions and Functions\n",
    "\n",
    "## Objectives\n",
    "\n",
    "1. Use variables to make expressions more readable\n",
    "2. Introduce the `lambda` expression for reusing expressions\n",
    "3. Writing more complicated functions with the `def` statement"
   ]
  },
  {
   "cell_type": "markdown",
   "metadata": {
    "nbpresent": {
     "id": "1a11188f-9efb-4909-b63f-fa5d6ed1628a"
    },
    "slideshow": {
     "slide_type": "slide"
    }
   },
   "source": [
    "## The `lambda` expression\n",
    "\n",
    "* Allows reuse of expressions\n",
    "* Variables become **Parameters**\n",
    "    * insert values later"
   ]
  },
  {
   "cell_type": "markdown",
   "metadata": {
    "nbpresent": {
     "id": "a59a0a0b-3a93-41e6-b1bd-b9c856d68106"
    },
    "slideshow": {
     "slide_type": "slide"
    }
   },
   "source": [
    "## The `lambda` syntax\n",
    "\n",
    "<img src=\"./img/lambda_syntax.png\"/>"
   ]
  },
  {
   "cell_type": "code",
   "execution_count": 1,
   "metadata": {
    "nbpresent": {
     "id": "12154f73-b113-47f0-a659-899c3c2e9cda"
    },
    "slideshow": {
     "slide_type": "fragment"
    }
   },
   "outputs": [],
   "source": [
    "f = lambda x: x**2"
   ]
  },
  {
   "cell_type": "code",
   "execution_count": 2,
   "metadata": {
    "nbpresent": {
     "id": "12154f73-b113-47f0-a659-899c3c2e9cda"
    },
    "slideshow": {
     "slide_type": "fragment"
    }
   },
   "outputs": [
    {
     "data": {
      "text/plain": [
       "4"
      ]
     },
     "execution_count": 2,
     "metadata": {},
     "output_type": "execute_result"
    }
   ],
   "source": [
    "f = lambda x: x**2\n",
    "f(2)"
   ]
  },
  {
   "cell_type": "markdown",
   "metadata": {
    "slideshow": {
     "slide_type": "slide"
    }
   },
   "source": [
    "## Evaluating `lambda` expressions\n",
    "\n",
    "<img src=\"./img/lambda_evaluation.png\" width=400/>"
   ]
  },
  {
   "cell_type": "markdown",
   "metadata": {
    "nbpresent": {
     "id": "a59a0a0b-3a93-41e6-b1bd-b9c856d68106"
    },
    "slideshow": {
     "slide_type": "slide"
    }
   },
   "source": [
    "## The `lambda` expression\n",
    "\n",
    "* The *type* of a `lambda` is the type `function`\n",
    "* The *value* of a `lambda` expression is actual function\n",
    "* Remember\n",
    "    * `lambda` MAKES the function\n",
    "    * Use function call to execute the function"
   ]
  },
  {
   "cell_type": "code",
   "execution_count": 5,
   "metadata": {
    "slideshow": {
     "slide_type": "slide"
    }
   },
   "outputs": [
    {
     "data": {
      "text/plain": [
       "<function __main__.<lambda>>"
      ]
     },
     "execution_count": 5,
     "metadata": {},
     "output_type": "execute_result"
    }
   ],
   "source": [
    "f"
   ]
  },
  {
   "cell_type": "code",
   "execution_count": 2,
   "metadata": {
    "nbpresent": {
     "id": "12154f73-b113-47f0-a659-899c3c2e9cda"
    },
    "slideshow": {
     "slide_type": "fragment"
    }
   },
   "outputs": [
    {
     "data": {
      "text/plain": [
       "function"
      ]
     },
     "execution_count": 2,
     "metadata": {},
     "output_type": "execute_result"
    }
   ],
   "source": [
    "type(f)"
   ]
  },
  {
   "cell_type": "markdown",
   "metadata": {
    "slideshow": {
     "slide_type": "slide"
    }
   },
   "source": [
    "## Calling a lambda expression in the usual way"
   ]
  },
  {
   "cell_type": "code",
   "execution_count": 3,
   "metadata": {
    "nbpresent": {
     "id": "eb41b143-7ceb-475d-83e3-941bd5866cb4"
    },
    "slideshow": {
     "slide_type": "fragment"
    }
   },
   "outputs": [
    {
     "data": {
      "text/plain": [
       "9"
      ]
     },
     "execution_count": 3,
     "metadata": {},
     "output_type": "execute_result"
    }
   ],
   "source": [
    "f(3)"
   ]
  },
  {
   "cell_type": "markdown",
   "metadata": {
    "slideshow": {
     "slide_type": "slide"
    }
   },
   "source": [
    "<font color=\"red\"><h1>Exercise 1</h1></font>\n",
    "\n",
    "Write a function using a `lambda` expression that computes the area of a circle with radius `r`.\n"
   ]
  },
  {
   "cell_type": "code",
   "execution_count": null,
   "metadata": {
    "slideshow": {
     "slide_type": "fragment"
    }
   },
   "outputs": [],
   "source": []
  },
  {
   "cell_type": "markdown",
   "metadata": {
    "slideshow": {
     "slide_type": "slide"
    }
   },
   "source": [
    "## Lambdas with many arguments"
   ]
  },
  {
   "cell_type": "code",
   "execution_count": 9,
   "metadata": {
    "nbpresent": {
     "id": "2f7d8217-77e6-4c57-802a-ac417af24d61"
    },
    "slideshow": {
     "slide_type": "fragment"
    }
   },
   "outputs": [
    {
     "data": {
      "text/plain": [
       "16"
      ]
     },
     "execution_count": 9,
     "metadata": {},
     "output_type": "execute_result"
    }
   ],
   "source": [
    "g = lambda x, y : x**y\n",
    "g(2,4)"
   ]
  },
  {
   "cell_type": "markdown",
   "metadata": {
    "slideshow": {
     "slide_type": "slide"
    }
   },
   "source": [
    "## Evaluating a 2 argument `lambda`\n",
    "\n",
    "<img src=\"./img/lambda_eval_2arg_1.png\" width=600/>"
   ]
  },
  {
   "cell_type": "markdown",
   "metadata": {
    "slideshow": {
     "slide_type": "slide"
    }
   },
   "source": [
    "## Evaluating a 2 argument `lambda`\n",
    "\n",
    "<img src=\"./img/lambda_eval_2arg_2.png\" width=600/>"
   ]
  },
  {
   "cell_type": "markdown",
   "metadata": {
    "slideshow": {
     "slide_type": "slide"
    }
   },
   "source": [
    "## Evaluating a 2 argument `lambda`\n",
    "\n",
    "<img src=\"./img/lambda_eval_2arg_3.png\" width=600/>"
   ]
  },
  {
   "cell_type": "markdown",
   "metadata": {
    "slideshow": {
     "slide_type": "slide"
    }
   },
   "source": []
  },
  {
   "cell_type": "markdown",
   "metadata": {
    "slideshow": {
     "slide_type": "slide"
    }
   },
   "source": [
    "<font color=\"red\"><h1>Exercise 2</h1></font>\n",
    "\n",
    "Use a similar process to evaluate `h(1,2,3)` when\n",
    "\n",
    "```\n",
    "h = lambda x, y, z: 2*x*y+ y**2/z\n",
    "```"
   ]
  },
  {
   "cell_type": "code",
   "execution_count": 26,
   "metadata": {
    "slideshow": {
     "slide_type": "fragment"
    }
   },
   "outputs": [
    {
     "data": {
      "text/plain": [
       "5.333333333333333"
      ]
     },
     "execution_count": 26,
     "metadata": {},
     "output_type": "execute_result"
    }
   ],
   "source": [
    "h = lambda x, y, z: 2*x*y+ y**2/z\n",
    "h(1, 2, 3)"
   ]
  },
  {
   "cell_type": "code",
   "execution_count": null,
   "metadata": {},
   "outputs": [],
   "source": []
  },
  {
   "cell_type": "markdown",
   "metadata": {
    "slideshow": {
     "slide_type": "slide"
    }
   },
   "source": [
    "<font color=\"red\"><h1>Exercise 3</h1></font>\n",
    "\n",
    "The function `random` from the `random` module can be used to generate numbers between 0 and 1 at random. We want to return numbers between $a$ and $b$ at random, which can be accomplished using the formula $V = (b - a)*random() + a$.\n",
    "\n",
    "Write a lambda function that takes `a` and `b` as arguments are returns a number between `a` and `b` at random."
   ]
  },
  {
   "cell_type": "code",
   "execution_count": null,
   "metadata": {
    "slideshow": {
     "slide_type": "fragment"
    }
   },
   "outputs": [],
   "source": []
  }
 ],
 "metadata": {
  "anaconda-cloud": {},
  "kernelspec": {
   "display_name": "Python 3",
   "language": "python",
   "name": "python3"
  },
  "language_info": {
   "codemirror_mode": {
    "name": "ipython",
    "version": 3
   },
   "file_extension": ".py",
   "mimetype": "text/x-python",
   "name": "python",
   "nbconvert_exporter": "python",
   "pygments_lexer": "ipython3",
   "version": "3.7.2"
  },
  "nbpresent": {
   "slides": {
    "d8cfa8b7-18e5-4d2f-8e92-8164c8bfad3b": {
     "id": "d8cfa8b7-18e5-4d2f-8e92-8164c8bfad3b",
     "prev": null,
     "regions": {
      "81231d63-4899-45f2-b382-fabf4f762896": {
       "attrs": {
        "height": 0.8,
        "width": 0.45,
        "x": 0.5,
        "y": 0.1
       },
       "id": "81231d63-4899-45f2-b382-fabf4f762896"
      },
      "b40d103d-8d7f-44de-8fca-19b2f9861cdd": {
       "attrs": {
        "height": 0.8,
        "width": 0.45,
        "x": 0.05,
        "y": 0.1
       },
       "id": "b40d103d-8d7f-44de-8fca-19b2f9861cdd"
      }
     }
    }
   },
   "themes": {}
  }
 },
 "nbformat": 4,
 "nbformat_minor": 2
}
