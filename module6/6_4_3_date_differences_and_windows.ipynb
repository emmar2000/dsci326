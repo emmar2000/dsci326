{
 "cells": [
  {
   "cell_type": "markdown",
   "metadata": {},
   "source": [
    "# Date Differences and Windows"
   ]
  },
  {
   "cell_type": "code",
   "execution_count": 1,
   "metadata": {},
   "outputs": [
    {
     "name": "stdout",
     "output_type": "stream",
     "text": [
      "22/11/03 10:19:07 WARN Utils: Your hostname, kg3597wc201 resolves to a loopback address: 127.0.1.1; using 10.19.81.31 instead (on interface wifi0)\n",
      "22/11/03 10:19:07 WARN Utils: Set SPARK_LOCAL_IP if you need to bind to another address\n"
     ]
    },
    {
     "name": "stderr",
     "output_type": "stream",
     "text": [
      "Setting default log level to \"WARN\".\n",
      "To adjust logging level use sc.setLogLevel(newLevel). For SparkR, use setLogLevel(newLevel).\n"
     ]
    },
    {
     "name": "stdout",
     "output_type": "stream",
     "text": [
      "22/11/03 10:19:10 WARN NativeCodeLoader: Unable to load native-hadoop library for your platform... using builtin-java classes where applicable\n"
     ]
    }
   ],
   "source": [
    "from pyspark.sql import SparkSession\n",
    "from more_pyspark import to_pandas\n",
    "\n",
    "spark = SparkSession.builder.appName('Ops').getOrCreate()\n",
    "spark.sparkContext.setLogLevel(\"ERROR\")"
   ]
  },
  {
   "cell_type": "markdown",
   "metadata": {},
   "source": [
    "## Example Data"
   ]
  },
  {
   "cell_type": "markdown",
   "metadata": {},
   "source": [
    "#### Example 1 - Uber data"
   ]
  },
  {
   "cell_type": "code",
   "execution_count": 2,
   "metadata": {},
   "outputs": [
    {
     "name": "stderr",
     "output_type": "stream",
     "text": [
      "                                                                                \r"
     ]
    },
    {
     "data": {
      "text/html": [
       "<div>\n",
       "<style scoped>\n",
       "    .dataframe tbody tr th:only-of-type {\n",
       "        vertical-align: middle;\n",
       "    }\n",
       "\n",
       "    .dataframe tbody tr th {\n",
       "        vertical-align: top;\n",
       "    }\n",
       "\n",
       "    .dataframe thead th {\n",
       "        text-align: right;\n",
       "    }\n",
       "</style>\n",
       "<table border=\"1\" class=\"dataframe\">\n",
       "  <thead>\n",
       "    <tr style=\"text-align: right;\">\n",
       "      <th></th>\n",
       "      <th>Date/Time</th>\n",
       "      <th>Lat</th>\n",
       "      <th>Lon</th>\n",
       "      <th>Base</th>\n",
       "    </tr>\n",
       "  </thead>\n",
       "  <tbody>\n",
       "    <tr>\n",
       "      <th>0</th>\n",
       "      <td>2014-04-18 21:38:00</td>\n",
       "      <td>40.7359</td>\n",
       "      <td>-73.9852</td>\n",
       "      <td>B02682</td>\n",
       "    </tr>\n",
       "    <tr>\n",
       "      <th>1</th>\n",
       "      <td>2014-04-23 15:19:00</td>\n",
       "      <td>40.7642</td>\n",
       "      <td>-73.9543</td>\n",
       "      <td>B02598</td>\n",
       "    </tr>\n",
       "    <tr>\n",
       "      <th>2</th>\n",
       "      <td>2014-04-10 07:15:00</td>\n",
       "      <td>40.7138</td>\n",
       "      <td>-74.0103</td>\n",
       "      <td>B02598</td>\n",
       "    </tr>\n",
       "    <tr>\n",
       "      <th>3</th>\n",
       "      <td>2014-04-11 15:23:00</td>\n",
       "      <td>40.7847</td>\n",
       "      <td>-73.9698</td>\n",
       "      <td>B02682</td>\n",
       "    </tr>\n",
       "    <tr>\n",
       "      <th>4</th>\n",
       "      <td>2014-04-07 17:26:00</td>\n",
       "      <td>40.6460</td>\n",
       "      <td>-73.7767</td>\n",
       "      <td>B02598</td>\n",
       "    </tr>\n",
       "  </tbody>\n",
       "</table>\n",
       "</div>"
      ],
      "text/plain": [
       "            Date/Time      Lat      Lon    Base\n",
       "0 2014-04-18 21:38:00  40.7359 -73.9852  B02682\n",
       "1 2014-04-23 15:19:00  40.7642 -73.9543  B02598\n",
       "2 2014-04-10 07:15:00  40.7138 -74.0103  B02598\n",
       "3 2014-04-11 15:23:00  40.7847 -73.9698  B02682\n",
       "4 2014-04-07 17:26:00  40.6460 -73.7767  B02598"
      ]
     },
     "execution_count": 2,
     "metadata": {},
     "output_type": "execute_result"
    }
   ],
   "source": [
    "from uber_schema import uber_schema, uber_datetime_format\n",
    "\n",
    "uber_april = spark.read.csv('./data/uber-raw-data-apr14-sample.csv', \n",
    "                            header=True, \n",
    "                            schema=uber_schema,\n",
    "                            timestampFormat=uber_datetime_format\n",
    "                           )\n",
    "\n",
    "uber_april.take(5) >> to_pandas"
   ]
  },
  {
   "cell_type": "markdown",
   "metadata": {},
   "source": [
    "#### Example 2 - MoMA exhibitions"
   ]
  },
  {
   "cell_type": "code",
   "execution_count": 3,
   "metadata": {},
   "outputs": [
    {
     "data": {
      "text/html": [
       "<div>\n",
       "<style scoped>\n",
       "    .dataframe tbody tr th:only-of-type {\n",
       "        vertical-align: middle;\n",
       "    }\n",
       "\n",
       "    .dataframe tbody tr th {\n",
       "        vertical-align: top;\n",
       "    }\n",
       "\n",
       "    .dataframe thead th {\n",
       "        text-align: right;\n",
       "    }\n",
       "</style>\n",
       "<table border=\"1\" class=\"dataframe\">\n",
       "  <thead>\n",
       "    <tr style=\"text-align: right;\">\n",
       "      <th></th>\n",
       "      <th>ExhibitionID</th>\n",
       "      <th>ExhibitionNumber</th>\n",
       "      <th>ExhibitionTitle</th>\n",
       "      <th>ExhibitionCitationDate</th>\n",
       "      <th>ExhibitionBeginDate</th>\n",
       "      <th>ExhibitionEndDate</th>\n",
       "      <th>ExhibitionSortOrder</th>\n",
       "      <th>ExhibitionURL</th>\n",
       "      <th>ExhibitionRole</th>\n",
       "      <th>ExhibitionRoleinPressRelease</th>\n",
       "      <th>...</th>\n",
       "      <th>Institution</th>\n",
       "      <th>Nationality</th>\n",
       "      <th>ConstituentBeginDate</th>\n",
       "      <th>ConstituentEndDate</th>\n",
       "      <th>ArtistBio</th>\n",
       "      <th>Gender</th>\n",
       "      <th>VIAFID</th>\n",
       "      <th>WikidataID</th>\n",
       "      <th>ULANID</th>\n",
       "      <th>ConstituentURL</th>\n",
       "    </tr>\n",
       "  </thead>\n",
       "  <tbody>\n",
       "    <tr>\n",
       "      <th>0</th>\n",
       "      <td>2557</td>\n",
       "      <td>1</td>\n",
       "      <td>Cézanne, Gauguin, Seurat, Van Gogh</td>\n",
       "      <td>[MoMA Exh. #1, November 7-December 7, 1929]</td>\n",
       "      <td>1929-11-07</td>\n",
       "      <td>1929-12-07</td>\n",
       "      <td>1</td>\n",
       "      <td>moma.org/calendar/exhibitions/1767</td>\n",
       "      <td>Curator</td>\n",
       "      <td>Director</td>\n",
       "      <td>...</td>\n",
       "      <td>None</td>\n",
       "      <td>American</td>\n",
       "      <td>1902</td>\n",
       "      <td>1981</td>\n",
       "      <td>American, 19021981</td>\n",
       "      <td>Male</td>\n",
       "      <td>109252853</td>\n",
       "      <td>Q711362</td>\n",
       "      <td>500241556</td>\n",
       "      <td>moma.org/artists/9168</td>\n",
       "    </tr>\n",
       "    <tr>\n",
       "      <th>1</th>\n",
       "      <td>2557</td>\n",
       "      <td>1</td>\n",
       "      <td>Cézanne, Gauguin, Seurat, Van Gogh</td>\n",
       "      <td>[MoMA Exh. #1, November 7-December 7, 1929]</td>\n",
       "      <td>1929-11-07</td>\n",
       "      <td>1929-12-07</td>\n",
       "      <td>1</td>\n",
       "      <td>moma.org/calendar/exhibitions/1767</td>\n",
       "      <td>Artist</td>\n",
       "      <td>Artist</td>\n",
       "      <td>...</td>\n",
       "      <td>None</td>\n",
       "      <td>French</td>\n",
       "      <td>1839</td>\n",
       "      <td>1906</td>\n",
       "      <td>French, 18391906</td>\n",
       "      <td>Male</td>\n",
       "      <td>39374836</td>\n",
       "      <td>Q35548</td>\n",
       "      <td>500004793</td>\n",
       "      <td>moma.org/artists/1053</td>\n",
       "    </tr>\n",
       "  </tbody>\n",
       "</table>\n",
       "<p>2 rows × 28 columns</p>\n",
       "</div>"
      ],
      "text/plain": [
       "   ExhibitionID ExhibitionNumber                     ExhibitionTitle  \\\n",
       "0          2557                1  Cézanne, Gauguin, Seurat, Van Gogh   \n",
       "1          2557                1  Cézanne, Gauguin, Seurat, Van Gogh   \n",
       "\n",
       "                        ExhibitionCitationDate ExhibitionBeginDate  \\\n",
       "0  [MoMA Exh. #1, November 7-December 7, 1929]          1929-11-07   \n",
       "1  [MoMA Exh. #1, November 7-December 7, 1929]          1929-11-07   \n",
       "\n",
       "  ExhibitionEndDate ExhibitionSortOrder                       ExhibitionURL  \\\n",
       "0        1929-12-07                   1  moma.org/calendar/exhibitions/1767   \n",
       "1        1929-12-07                   1  moma.org/calendar/exhibitions/1767   \n",
       "\n",
       "  ExhibitionRole ExhibitionRoleinPressRelease  ... Institution Nationality  \\\n",
       "0        Curator                     Director  ...        None    American   \n",
       "1         Artist                       Artist  ...        None      French   \n",
       "\n",
       "  ConstituentBeginDate ConstituentEndDate            ArtistBio Gender  \\\n",
       "0                 1902               1981  American, 19021981   Male   \n",
       "1                 1839               1906    French, 18391906   Male   \n",
       "\n",
       "      VIAFID WikidataID     ULANID         ConstituentURL  \n",
       "0  109252853    Q711362  500241556  moma.org/artists/9168  \n",
       "1   39374836     Q35548  500004793  moma.org/artists/1053  \n",
       "\n",
       "[2 rows x 28 columns]"
      ]
     },
     "execution_count": 3,
     "metadata": {},
     "output_type": "execute_result"
    }
   ],
   "source": [
    "from MoMA_schema import exhib_schema, exhib_date_format\n",
    "\n",
    "exhibitions = spark.read.csv('./data/MoMAExhibitions1929to1989.csv', \n",
    "                             header=True, \n",
    "                             schema=exhib_schema,\n",
    "                             encoding=\"ISO-8859-1\",\n",
    "                             dateFormat=exhib_date_format)\n",
    "exhibitions.take(2) >> to_pandas"
   ]
  },
  {
   "cell_type": "markdown",
   "metadata": {},
   "source": [
    "## Computing difference between dates\n",
    "\n",
    "In addition to functions for extracting date- and time-parts, `pyspark` also included functions \n",
    "\n",
    "1. `datediff` is the difference in *days*\n",
    "2. `monthsbetween` is the difference in *months*"
   ]
  },
  {
   "cell_type": "code",
   "execution_count": 4,
   "metadata": {
    "scrolled": true
   },
   "outputs": [
    {
     "name": "stderr",
     "output_type": "stream",
     "text": [
      "                                                                                \r"
     ]
    },
    {
     "data": {
      "text/html": [
       "<div>\n",
       "<style scoped>\n",
       "    .dataframe tbody tr th:only-of-type {\n",
       "        vertical-align: middle;\n",
       "    }\n",
       "\n",
       "    .dataframe tbody tr th {\n",
       "        vertical-align: top;\n",
       "    }\n",
       "\n",
       "    .dataframe thead th {\n",
       "        text-align: right;\n",
       "    }\n",
       "</style>\n",
       "<table border=\"1\" class=\"dataframe\">\n",
       "  <thead>\n",
       "    <tr style=\"text-align: right;\">\n",
       "      <th></th>\n",
       "      <th>Length in days</th>\n",
       "      <th>Number of Exhibits</th>\n",
       "    </tr>\n",
       "  </thead>\n",
       "  <tbody>\n",
       "    <tr>\n",
       "      <th>0</th>\n",
       "      <td>31.0</td>\n",
       "      <td>234</td>\n",
       "    </tr>\n",
       "    <tr>\n",
       "      <th>1</th>\n",
       "      <td>137.0</td>\n",
       "      <td>158</td>\n",
       "    </tr>\n",
       "    <tr>\n",
       "      <th>2</th>\n",
       "      <td>65.0</td>\n",
       "      <td>55</td>\n",
       "    </tr>\n",
       "    <tr>\n",
       "      <th>3</th>\n",
       "      <td>53.0</td>\n",
       "      <td>739</td>\n",
       "    </tr>\n",
       "    <tr>\n",
       "      <th>4</th>\n",
       "      <td>108.0</td>\n",
       "      <td>67</td>\n",
       "    </tr>\n",
       "    <tr>\n",
       "      <th>...</th>\n",
       "      <td>...</td>\n",
       "      <td>...</td>\n",
       "    </tr>\n",
       "    <tr>\n",
       "      <th>196</th>\n",
       "      <td>214.0</td>\n",
       "      <td>8</td>\n",
       "    </tr>\n",
       "    <tr>\n",
       "      <th>197</th>\n",
       "      <td>123.0</td>\n",
       "      <td>20</td>\n",
       "    </tr>\n",
       "    <tr>\n",
       "      <th>198</th>\n",
       "      <td>420.0</td>\n",
       "      <td>33</td>\n",
       "    </tr>\n",
       "    <tr>\n",
       "      <th>199</th>\n",
       "      <td>180.0</td>\n",
       "      <td>1</td>\n",
       "    </tr>\n",
       "    <tr>\n",
       "      <th>200</th>\n",
       "      <td>208.0</td>\n",
       "      <td>1</td>\n",
       "    </tr>\n",
       "  </tbody>\n",
       "</table>\n",
       "<p>201 rows × 2 columns</p>\n",
       "</div>"
      ],
      "text/plain": [
       "     Length in days  Number of Exhibits\n",
       "0              31.0                 234\n",
       "1             137.0                 158\n",
       "2              65.0                  55\n",
       "3              53.0                 739\n",
       "4             108.0                  67\n",
       "..              ...                 ...\n",
       "196           214.0                   8\n",
       "197           123.0                  20\n",
       "198           420.0                  33\n",
       "199           180.0                   1\n",
       "200           208.0                   1\n",
       "\n",
       "[201 rows x 2 columns]"
      ]
     },
     "execution_count": 4,
     "metadata": {},
     "output_type": "execute_result"
    }
   ],
   "source": [
    "from pyspark.sql.functions import datediff, months_between, count\n",
    "\n",
    "length_of_exhib = (exhibitions\n",
    "    .select('ExhibitionBeginDate', 'ExhibitionEndDate')\n",
    "    .withColumn('Length in days', datediff('ExhibitionEndDate', 'ExhibitionBeginDate'))\n",
    "    .groupBy('Length in days')\n",
    "    .agg(count('Length in days').alias('Number of Exhibits'))\n",
    "    .collect()\n",
    ") >> to_pandas\n",
    "\n",
    "length_of_exhib"
   ]
  },
  {
   "cell_type": "code",
   "execution_count": 5,
   "metadata": {
    "scrolled": false
   },
   "outputs": [
    {
     "data": {
      "image/png": "[encoded data removed]",
      "text/plain": [
       "<Figure size 640x480 with 1 Axes>"
      ]
     },
     "metadata": {},
     "output_type": "display_data"
    }
   ],
   "source": [
    "import seaborn as sns\n",
    "\n",
    "sns.barplot(x = 'Length in days', y = 'Number of Exhibits', data=length_of_exhib);"
   ]
  },
  {
   "cell_type": "markdown",
   "metadata": {},
   "source": [
    "### Fixing the x-axis ticks"
   ]
  },
  {
   "cell_type": "code",
   "execution_count": 6,
   "metadata": {},
   "outputs": [
    {
     "data": {
      "text/plain": [
       "count     200.000000\n",
       "mean      142.230000\n",
       "std       243.299363\n",
       "min        -6.000000\n",
       "25%        50.750000\n",
       "50%       100.500000\n",
       "75%       161.250000\n",
       "max      2994.000000\n",
       "Name: Length in days, dtype: float64"
      ]
     },
     "execution_count": 6,
     "metadata": {},
     "output_type": "execute_result"
    }
   ],
   "source": [
    "length_of_exhib[\"Length in days\"].describe()"
   ]
  },
  {
   "cell_type": "code",
   "execution_count": 7,
   "metadata": {
    "scrolled": true
   },
   "outputs": [
    {
     "data": {
      "image/png": "[encoded data removed]",
      "text/plain": [
       "<Figure size 640x480 with 1 Axes>"
      ]
     },
     "metadata": {},
     "output_type": "display_data"
    }
   ],
   "source": [
    "import numpy as np\n",
    "\n",
    "x_ticks = np.linspace(0,\n",
    "                      200, # Took some experimentation to get this\n",
    "                      5)\n",
    "\n",
    "ax = sns.barplot(x = 'Length in days', y = 'Number of Exhibits', data=length_of_exhib)\n",
    "_ = ax.set_xticks(x_ticks, x_ticks)"
   ]
  },
  {
   "cell_type": "markdown",
   "metadata": {},
   "source": [
    "## <font color='red'> Exercise 6.4.3 - Exhibition Length in Months </font>\n",
    "\n",
    "Create a visualization of the length of the exhibitions in months."
   ]
  },
  {
   "cell_type": "code",
   "execution_count": 8,
   "metadata": {
    "scrolled": true
   },
   "outputs": [
    {
     "name": "stderr",
     "output_type": "stream",
     "text": [
      "                                                                                \r"
     ]
    },
    {
     "data": {
      "text/html": [
       "<div>\n",
       "<style scoped>\n",
       "    .dataframe tbody tr th:only-of-type {\n",
       "        vertical-align: middle;\n",
       "    }\n",
       "\n",
       "    .dataframe tbody tr th {\n",
       "        vertical-align: top;\n",
       "    }\n",
       "\n",
       "    .dataframe thead th {\n",
       "        text-align: right;\n",
       "    }\n",
       "</style>\n",
       "<table border=\"1\" class=\"dataframe\">\n",
       "  <thead>\n",
       "    <tr style=\"text-align: right;\">\n",
       "      <th></th>\n",
       "      <th>Length in months</th>\n",
       "      <th>Number of Exhibits</th>\n",
       "    </tr>\n",
       "  </thead>\n",
       "  <tbody>\n",
       "    <tr>\n",
       "      <th>0</th>\n",
       "      <td>NaN</td>\n",
       "      <td>0</td>\n",
       "    </tr>\n",
       "    <tr>\n",
       "      <th>1</th>\n",
       "      <td>0.032258</td>\n",
       "      <td>1</td>\n",
       "    </tr>\n",
       "    <tr>\n",
       "      <th>2</th>\n",
       "      <td>0.064516</td>\n",
       "      <td>56</td>\n",
       "    </tr>\n",
       "    <tr>\n",
       "      <th>3</th>\n",
       "      <td>0.096774</td>\n",
       "      <td>10</td>\n",
       "    </tr>\n",
       "    <tr>\n",
       "      <th>4</th>\n",
       "      <td>0.129032</td>\n",
       "      <td>7</td>\n",
       "    </tr>\n",
       "    <tr>\n",
       "      <th>...</th>\n",
       "      <td>...</td>\n",
       "      <td>...</td>\n",
       "    </tr>\n",
       "    <tr>\n",
       "      <th>196</th>\n",
       "      <td>15.967742</td>\n",
       "      <td>3</td>\n",
       "    </tr>\n",
       "    <tr>\n",
       "      <th>197</th>\n",
       "      <td>21.935484</td>\n",
       "      <td>2</td>\n",
       "    </tr>\n",
       "    <tr>\n",
       "      <th>198</th>\n",
       "      <td>30.290323</td>\n",
       "      <td>19</td>\n",
       "    </tr>\n",
       "    <tr>\n",
       "      <th>199</th>\n",
       "      <td>37.903226</td>\n",
       "      <td>35</td>\n",
       "    </tr>\n",
       "    <tr>\n",
       "      <th>200</th>\n",
       "      <td>98.322581</td>\n",
       "      <td>113</td>\n",
       "    </tr>\n",
       "  </tbody>\n",
       "</table>\n",
       "<p>201 rows × 2 columns</p>\n",
       "</div>"
      ],
      "text/plain": [
       "     Length in months  Number of Exhibits\n",
       "0                 NaN                   0\n",
       "1            0.032258                   1\n",
       "2            0.064516                  56\n",
       "3            0.096774                  10\n",
       "4            0.129032                   7\n",
       "..                ...                 ...\n",
       "196         15.967742                   3\n",
       "197         21.935484                   2\n",
       "198         30.290323                  19\n",
       "199         37.903226                  35\n",
       "200         98.322581                 113\n",
       "\n",
       "[201 rows x 2 columns]"
      ]
     },
     "execution_count": 8,
     "metadata": {},
     "output_type": "execute_result"
    }
   ],
   "source": [
    "from pyspark.sql.functions import when, col\n",
    "\n",
    "length_in_months = (exhibitions\n",
    "    .select('ExhibitionBeginDate', 'ExhibitionEndDate')\n",
    "    .withColumn('Length in months', when((m := months_between('ExhibitionEndDate', 'ExhibitionBeginDate')) > 0, m)\n",
    "                                        .otherwise(-1*m))\n",
    "    .groupBy('Length in months')\n",
    "    .agg(count('Length in months').alias('Number of Exhibits'))\n",
    "    .orderBy(col(\"Length in months\").asc())\n",
    "    .collect()\n",
    ") >> to_pandas\n",
    "\n",
    "length_in_months"
   ]
  },
  {
   "cell_type": "code",
   "execution_count": 9,
   "metadata": {
    "scrolled": true
   },
   "outputs": [
    {
     "data": {
      "text/plain": [
       "count    200.000000\n",
       "mean       4.641774\n",
       "std        7.984793\n",
       "min        0.032258\n",
       "25%        1.669355\n",
       "50%        3.274194\n",
       "75%        5.201613\n",
       "max       98.322581\n",
       "Name: Length in months, dtype: float64"
      ]
     },
     "execution_count": 9,
     "metadata": {},
     "output_type": "execute_result"
    }
   ],
   "source": [
    "length_in_months[\"Length in months\"].describe()"
   ]
  },
  {
   "cell_type": "code",
   "execution_count": 10,
   "metadata": {},
   "outputs": [],
   "source": [
    "myticks = np.linspace(0, 100, 5)"
   ]
  },
  {
   "cell_type": "code",
   "execution_count": 11,
   "metadata": {
    "scrolled": true
   },
   "outputs": [
    {
     "data": {
      "image/png": "[encoded data removed]",
      "text/plain": [
       "<Figure size 640x480 with 1 Axes>"
      ]
     },
     "metadata": {},
     "output_type": "display_data"
    }
   ],
   "source": [
    "# Doesn't seem to display correctly - data ranges from 0 to 100, yet there is data appearing past the 100 mark\n",
    "# Oh well, I tried\n",
    "ax2 = sns.barplot(x=\"Length in months\", y=\"Number of Exhibits\", data=length_in_months)\n",
    "_ = ax2.set_xticks(myticks, myticks)"
   ]
  },
  {
   "cell_type": "markdown",
   "metadata": {},
   "source": [
    "## Time Windows\n",
    "\n",
    "We can use the `window` function to group and aggregate by various time windows."
   ]
  },
  {
   "cell_type": "markdown",
   "metadata": {},
   "source": [
    "### Example - Uber by week"
   ]
  },
  {
   "cell_type": "code",
   "execution_count": 12,
   "metadata": {
    "scrolled": true
   },
   "outputs": [
    {
     "name": "stderr",
     "output_type": "stream",
     "text": [
      "                                                                                \r"
     ]
    },
    {
     "data": {
      "text/html": [
       "<div>\n",
       "<style scoped>\n",
       "    .dataframe tbody tr th:only-of-type {\n",
       "        vertical-align: middle;\n",
       "    }\n",
       "\n",
       "    .dataframe tbody tr th {\n",
       "        vertical-align: top;\n",
       "    }\n",
       "\n",
       "    .dataframe thead th {\n",
       "        text-align: right;\n",
       "    }\n",
       "</style>\n",
       "<table border=\"1\" class=\"dataframe\">\n",
       "  <thead>\n",
       "    <tr style=\"text-align: right;\">\n",
       "      <th></th>\n",
       "      <th>window</th>\n",
       "      <th>Number of Rides</th>\n",
       "    </tr>\n",
       "  </thead>\n",
       "  <tbody>\n",
       "    <tr>\n",
       "      <th>0</th>\n",
       "      <td>(2014-04-21 19:00:00, 2014-04-22 19:00:00)</td>\n",
       "      <td>2762</td>\n",
       "    </tr>\n",
       "    <tr>\n",
       "      <th>1</th>\n",
       "      <td>(2014-04-03 19:00:00, 2014-04-04 19:00:00)</td>\n",
       "      <td>4429</td>\n",
       "    </tr>\n",
       "    <tr>\n",
       "      <th>2</th>\n",
       "      <td>(2014-03-31 19:00:00, 2014-04-01 19:00:00)</td>\n",
       "      <td>1997</td>\n",
       "    </tr>\n",
       "    <tr>\n",
       "      <th>3</th>\n",
       "      <td>(2014-04-09 19:00:00, 2014-04-10 19:00:00)</td>\n",
       "      <td>3364</td>\n",
       "    </tr>\n",
       "    <tr>\n",
       "      <th>4</th>\n",
       "      <td>(2014-04-01 19:00:00, 2014-04-02 19:00:00)</td>\n",
       "      <td>2913</td>\n",
       "    </tr>\n",
       "    <tr>\n",
       "      <th>5</th>\n",
       "      <td>(2014-04-07 19:00:00, 2014-04-08 19:00:00)</td>\n",
       "      <td>3095</td>\n",
       "    </tr>\n",
       "    <tr>\n",
       "      <th>6</th>\n",
       "      <td>(2014-04-05 19:00:00, 2014-04-06 19:00:00)</td>\n",
       "      <td>3294</td>\n",
       "    </tr>\n",
       "    <tr>\n",
       "      <th>7</th>\n",
       "      <td>(2014-04-10 19:00:00, 2014-04-11 19:00:00)</td>\n",
       "      <td>3664</td>\n",
       "    </tr>\n",
       "    <tr>\n",
       "      <th>8</th>\n",
       "      <td>(2014-04-02 19:00:00, 2014-04-03 19:00:00)</td>\n",
       "      <td>3166</td>\n",
       "    </tr>\n",
       "    <tr>\n",
       "      <th>9</th>\n",
       "      <td>(2014-04-17 19:00:00, 2014-04-18 19:00:00)</td>\n",
       "      <td>3313</td>\n",
       "    </tr>\n",
       "    <tr>\n",
       "      <th>10</th>\n",
       "      <td>(2014-04-08 19:00:00, 2014-04-09 19:00:00)</td>\n",
       "      <td>2924</td>\n",
       "    </tr>\n",
       "    <tr>\n",
       "      <th>11</th>\n",
       "      <td>(2014-04-22 19:00:00, 2014-04-23 19:00:00)</td>\n",
       "      <td>3269</td>\n",
       "    </tr>\n",
       "    <tr>\n",
       "      <th>12</th>\n",
       "      <td>(2014-04-15 19:00:00, 2014-04-16 19:00:00)</td>\n",
       "      <td>3417</td>\n",
       "    </tr>\n",
       "    <tr>\n",
       "      <th>13</th>\n",
       "      <td>(2014-04-04 19:00:00, 2014-04-05 19:00:00)</td>\n",
       "      <td>3545</td>\n",
       "    </tr>\n",
       "    <tr>\n",
       "      <th>14</th>\n",
       "      <td>(2014-04-13 19:00:00, 2014-04-14 19:00:00)</td>\n",
       "      <td>2176</td>\n",
       "    </tr>\n",
       "    <tr>\n",
       "      <th>15</th>\n",
       "      <td>(2014-04-28 19:00:00, 2014-04-29 19:00:00)</td>\n",
       "      <td>3589</td>\n",
       "    </tr>\n",
       "    <tr>\n",
       "      <th>16</th>\n",
       "      <td>(2014-04-20 19:00:00, 2014-04-21 19:00:00)</td>\n",
       "      <td>2258</td>\n",
       "    </tr>\n",
       "    <tr>\n",
       "      <th>17</th>\n",
       "      <td>(2014-04-06 19:00:00, 2014-04-07 19:00:00)</td>\n",
       "      <td>3026</td>\n",
       "    </tr>\n",
       "    <tr>\n",
       "      <th>18</th>\n",
       "      <td>(2014-04-25 19:00:00, 2014-04-26 19:00:00)</td>\n",
       "      <td>4438</td>\n",
       "    </tr>\n",
       "    <tr>\n",
       "      <th>19</th>\n",
       "      <td>(2014-04-11 19:00:00, 2014-04-12 19:00:00)</td>\n",
       "      <td>3183</td>\n",
       "    </tr>\n",
       "    <tr>\n",
       "      <th>20</th>\n",
       "      <td>(2014-04-14 19:00:00, 2014-04-15 19:00:00)</td>\n",
       "      <td>2944</td>\n",
       "    </tr>\n",
       "    <tr>\n",
       "      <th>21</th>\n",
       "      <td>(2014-04-29 19:00:00, 2014-04-30 19:00:00)</td>\n",
       "      <td>5566</td>\n",
       "    </tr>\n",
       "    <tr>\n",
       "      <th>22</th>\n",
       "      <td>(2014-04-27 19:00:00, 2014-04-28 19:00:00)</td>\n",
       "      <td>2661</td>\n",
       "    </tr>\n",
       "    <tr>\n",
       "      <th>23</th>\n",
       "      <td>(2014-04-16 19:00:00, 2014-04-17 19:00:00)</td>\n",
       "      <td>3356</td>\n",
       "    </tr>\n",
       "    <tr>\n",
       "      <th>24</th>\n",
       "      <td>(2014-04-30 19:00:00, 2014-05-01 19:00:00)</td>\n",
       "      <td>1941</td>\n",
       "    </tr>\n",
       "    <tr>\n",
       "      <th>25</th>\n",
       "      <td>(2014-04-23 19:00:00, 2014-04-24 19:00:00)</td>\n",
       "      <td>3949</td>\n",
       "    </tr>\n",
       "    <tr>\n",
       "      <th>26</th>\n",
       "      <td>(2014-04-18 19:00:00, 2014-04-19 19:00:00)</td>\n",
       "      <td>2688</td>\n",
       "    </tr>\n",
       "    <tr>\n",
       "      <th>27</th>\n",
       "      <td>(2014-04-24 19:00:00, 2014-04-25 19:00:00)</td>\n",
       "      <td>4099</td>\n",
       "    </tr>\n",
       "    <tr>\n",
       "      <th>28</th>\n",
       "      <td>(2014-04-12 19:00:00, 2014-04-13 19:00:00)</td>\n",
       "      <td>2945</td>\n",
       "    </tr>\n",
       "    <tr>\n",
       "      <th>29</th>\n",
       "      <td>(2014-04-19 19:00:00, 2014-04-20 19:00:00)</td>\n",
       "      <td>2358</td>\n",
       "    </tr>\n",
       "    <tr>\n",
       "      <th>30</th>\n",
       "      <td>(2014-04-26 19:00:00, 2014-04-27 19:00:00)</td>\n",
       "      <td>3671</td>\n",
       "    </tr>\n",
       "  </tbody>\n",
       "</table>\n",
       "</div>"
      ],
      "text/plain": [
       "                                        window  Number of Rides\n",
       "0   (2014-04-21 19:00:00, 2014-04-22 19:00:00)             2762\n",
       "1   (2014-04-03 19:00:00, 2014-04-04 19:00:00)             4429\n",
       "2   (2014-03-31 19:00:00, 2014-04-01 19:00:00)             1997\n",
       "3   (2014-04-09 19:00:00, 2014-04-10 19:00:00)             3364\n",
       "4   (2014-04-01 19:00:00, 2014-04-02 19:00:00)             2913\n",
       "5   (2014-04-07 19:00:00, 2014-04-08 19:00:00)             3095\n",
       "6   (2014-04-05 19:00:00, 2014-04-06 19:00:00)             3294\n",
       "7   (2014-04-10 19:00:00, 2014-04-11 19:00:00)             3664\n",
       "8   (2014-04-02 19:00:00, 2014-04-03 19:00:00)             3166\n",
       "9   (2014-04-17 19:00:00, 2014-04-18 19:00:00)             3313\n",
       "10  (2014-04-08 19:00:00, 2014-04-09 19:00:00)             2924\n",
       "11  (2014-04-22 19:00:00, 2014-04-23 19:00:00)             3269\n",
       "12  (2014-04-15 19:00:00, 2014-04-16 19:00:00)             3417\n",
       "13  (2014-04-04 19:00:00, 2014-04-05 19:00:00)             3545\n",
       "14  (2014-04-13 19:00:00, 2014-04-14 19:00:00)             2176\n",
       "15  (2014-04-28 19:00:00, 2014-04-29 19:00:00)             3589\n",
       "16  (2014-04-20 19:00:00, 2014-04-21 19:00:00)             2258\n",
       "17  (2014-04-06 19:00:00, 2014-04-07 19:00:00)             3026\n",
       "18  (2014-04-25 19:00:00, 2014-04-26 19:00:00)             4438\n",
       "19  (2014-04-11 19:00:00, 2014-04-12 19:00:00)             3183\n",
       "20  (2014-04-14 19:00:00, 2014-04-15 19:00:00)             2944\n",
       "21  (2014-04-29 19:00:00, 2014-04-30 19:00:00)             5566\n",
       "22  (2014-04-27 19:00:00, 2014-04-28 19:00:00)             2661\n",
       "23  (2014-04-16 19:00:00, 2014-04-17 19:00:00)             3356\n",
       "24  (2014-04-30 19:00:00, 2014-05-01 19:00:00)             1941\n",
       "25  (2014-04-23 19:00:00, 2014-04-24 19:00:00)             3949\n",
       "26  (2014-04-18 19:00:00, 2014-04-19 19:00:00)             2688\n",
       "27  (2014-04-24 19:00:00, 2014-04-25 19:00:00)             4099\n",
       "28  (2014-04-12 19:00:00, 2014-04-13 19:00:00)             2945\n",
       "29  (2014-04-19 19:00:00, 2014-04-20 19:00:00)             2358\n",
       "30  (2014-04-26 19:00:00, 2014-04-27 19:00:00)             3671"
      ]
     },
     "execution_count": 12,
     "metadata": {},
     "output_type": "execute_result"
    }
   ],
   "source": [
    "from pyspark.sql.functions import window\n",
    "\n",
    "daily_rides = (uber_april\n",
    "                .groupBy(window('Date/Time', '1 day'))\n",
    "                .agg(count('Date/Time').alias('Number of Rides'))\n",
    "                .collect()\n",
    "                ) >> to_pandas\n",
    "\n",
    "daily_rides"
   ]
  },
  {
   "cell_type": "code",
   "execution_count": 13,
   "metadata": {},
   "outputs": [
    {
     "data": {
      "image/png": "[encoded data removed]",
      "text/plain": [
       "<Figure size 640x480 with 1 Axes>"
      ]
     },
     "metadata": {},
     "output_type": "display_data"
    }
   ],
   "source": [
    "x_ticks = range(1, 31, 5)\n",
    "x_labels = ['Day {0}'.format(i) for i in range(1, 31, 5)]\n",
    "\n",
    "ax = sns.barplot(x = 'window', y = 'Number of Rides', data = daily_rides)\n",
    "_ = ax.set_xticks(x_ticks, x_labels)\n",
    "_ = ax.set_xlabel('Day of Month')"
   ]
  },
  {
   "cell_type": "markdown",
   "metadata": {},
   "source": [
    "## <font color='red'> Exercise 6.4.4 - Uber rides per hour </font>\n",
    "\n",
    "Create a line plot to visualize the number of rides across all hourly windows."
   ]
  },
  {
   "cell_type": "code",
   "execution_count": 14,
   "metadata": {},
   "outputs": [
    {
     "name": "stderr",
     "output_type": "stream",
     "text": [
      "                                                                                \r"
     ]
    },
    {
     "data": {
      "text/html": [
       "<div>\n",
       "<style scoped>\n",
       "    .dataframe tbody tr th:only-of-type {\n",
       "        vertical-align: middle;\n",
       "    }\n",
       "\n",
       "    .dataframe tbody tr th {\n",
       "        vertical-align: top;\n",
       "    }\n",
       "\n",
       "    .dataframe thead th {\n",
       "        text-align: right;\n",
       "    }\n",
       "</style>\n",
       "<table border=\"1\" class=\"dataframe\">\n",
       "  <thead>\n",
       "    <tr style=\"text-align: right;\">\n",
       "      <th></th>\n",
       "      <th>window</th>\n",
       "      <th>Number of Rides</th>\n",
       "    </tr>\n",
       "  </thead>\n",
       "  <tbody>\n",
       "    <tr>\n",
       "      <th>0</th>\n",
       "      <td>(2014-04-19 20:00:00, 2014-04-19 21:00:00)</td>\n",
       "      <td>161</td>\n",
       "    </tr>\n",
       "    <tr>\n",
       "      <th>1</th>\n",
       "      <td>(2014-04-26 04:00:00, 2014-04-26 05:00:00)</td>\n",
       "      <td>43</td>\n",
       "    </tr>\n",
       "    <tr>\n",
       "      <th>2</th>\n",
       "      <td>(2014-04-27 22:00:00, 2014-04-27 23:00:00)</td>\n",
       "      <td>79</td>\n",
       "    </tr>\n",
       "    <tr>\n",
       "      <th>3</th>\n",
       "      <td>(2014-04-01 03:00:00, 2014-04-01 04:00:00)</td>\n",
       "      <td>20</td>\n",
       "    </tr>\n",
       "    <tr>\n",
       "      <th>4</th>\n",
       "      <td>(2014-04-06 22:00:00, 2014-04-06 23:00:00)</td>\n",
       "      <td>73</td>\n",
       "    </tr>\n",
       "  </tbody>\n",
       "</table>\n",
       "</div>"
      ],
      "text/plain": [
       "                                       window  Number of Rides\n",
       "0  (2014-04-19 20:00:00, 2014-04-19 21:00:00)              161\n",
       "1  (2014-04-26 04:00:00, 2014-04-26 05:00:00)               43\n",
       "2  (2014-04-27 22:00:00, 2014-04-27 23:00:00)               79\n",
       "3  (2014-04-01 03:00:00, 2014-04-01 04:00:00)               20\n",
       "4  (2014-04-06 22:00:00, 2014-04-06 23:00:00)               73"
      ]
     },
     "execution_count": 14,
     "metadata": {},
     "output_type": "execute_result"
    }
   ],
   "source": [
    "# Your code here\n",
    "\n",
    "hourly_rides = (uber_april\n",
    "                .groupBy(window('Date/Time', '1 hour'))\n",
    "                .agg(count('Date/Time').alias('Number of Rides'))\n",
    "                .collect()\n",
    "                ) >> to_pandas\n",
    "\n",
    "hourly_rides.head()"
   ]
  },
  {
   "cell_type": "code",
   "execution_count": 15,
   "metadata": {},
   "outputs": [
    {
     "data": {
      "image/png": "[encoded data removed]",
      "text/plain": [
       "<Figure size 640x480 with 1 Axes>"
      ]
     },
     "metadata": {},
     "output_type": "display_data"
    }
   ],
   "source": [
    "# the window is not numeric, so you can't use it for a line plot. Bar graph it is!\n",
    "\n",
    "ax = sns.barplot(x=\"window\", y=\"Number of Rides\", data=hourly_rides)\n",
    "_ = ax.set_xticks([])\n",
    "_ = ax.set_xlabel(\"Day and Hour\")"
   ]
  },
  {
   "cell_type": "markdown",
   "metadata": {},
   "source": [
    "## Other time functions\n",
    "\n",
    "* Get the `current_date` or `current_time`\n",
    "* Get the `next_day`\n",
    "* Round dates/times with `trunc`/`date_trunc`\n",
    "* Add/subtract days or with `dateadd`/`datesub`/`month_add`"
   ]
  }
 ],
 "metadata": {
  "kernelspec": {
   "display_name": "Python 3 (ipykernel)",
   "language": "python",
   "name": "python3"
  },
  "language_info": {
   "codemirror_mode": {
    "name": "ipython",
    "version": 3
   },
   "file_extension": ".py",
   "mimetype": "text/x-python",
   "name": "python",
   "nbconvert_exporter": "python",
   "pygments_lexer": "ipython3",
   "version": "3.10.6"
  },
  "varInspector": {
   "cols": {
    "lenName": 16,
    "lenType": 16,
    "lenVar": 40
   },
   "kernels_config": {
    "python": {
     "delete_cmd_postfix": "",
     "delete_cmd_prefix": "del ",
     "library": "var_list.py",
     "varRefreshCmd": "print(var_dic_list())"
    },
    "r": {
     "delete_cmd_postfix": ") ",
     "delete_cmd_prefix": "rm(",
     "library": "var_list.r",
     "varRefreshCmd": "cat(var_dic_list()) "
    }
   },
   "types_to_exclude": [
    "module",
    "function",
    "builtin_function_or_method",
    "instance",
    "_Feature"
   ],
   "window_display": false
  }
 },
 "nbformat": 4,
 "nbformat_minor": 2
}
