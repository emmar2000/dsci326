{
 "cells": [
  {
   "cell_type": "markdown",
   "id": "d1048d72",
   "metadata": {},
   "source": [
    "# Activity 4.1 - Cleaning Walmart Data the OpenRefine Way\n",
    "\n",
    "In this activity, you will practice what you learned in Lecture 4.5 by cleaning up a data set containing information on various Walmart locations."
   ]
  },
  {
   "cell_type": "code",
   "execution_count": 17,
   "id": "9f0382a3",
   "metadata": {},
   "outputs": [],
   "source": [
    "import pandas as pd\n",
    "from dfply import *"
   ]
  },
  {
   "cell_type": "markdown",
   "id": "69f1af55",
   "metadata": {},
   "source": [
    "#### Initial Tasks\n",
    "\n",
    "1. Try to read in the `./data/Walmart_United_States_&_Canada.csv` file and verify that you get an encoding error.  This means that the [character encoding](https://en.wikipedia.org/wiki/Character_encoding) isn't the default of `utf-8`.  The easiest way to fix this is to open and save the file in Visual Studio Code."
   ]
  },
  {
   "cell_type": "code",
   "execution_count": 20,
   "id": "cf70ef7e",
   "metadata": {},
   "outputs": [],
   "source": [
    "# Your code here"
   ]
  },
  {
   "cell_type": "markdown",
   "id": "a4d4fb33",
   "metadata": {},
   "source": [
    "2. Read in the data to verify that the encoding is fixed, but that there are two more problems.  What are they?"
   ]
  },
  {
   "cell_type": "code",
   "execution_count": 19,
   "id": "50b6fdb7",
   "metadata": {},
   "outputs": [],
   "source": [
    "#Your code here"
   ]
  },
  {
   "cell_type": "markdown",
   "id": "21292c92",
   "metadata": {},
   "source": [
    "<font color=\"blue\"> Your thoughts here </font>"
   ]
  },
  {
   "cell_type": "markdown",
   "id": "d25342e5",
   "metadata": {},
   "source": [
    "3. Take another look at the file in VS Code and determine solutions to the two/three issues, then read in the data correctly by passing `pd.read_csv` the correct defaults for this data. **Note.** Leave the `\"` in place for now, as they serve an important role here!"
   ]
  },
  {
   "cell_type": "code",
   "execution_count": null,
   "id": "bc1ac469",
   "metadata": {},
   "outputs": [],
   "source": [
    "help(pd.read_csv) # This might help!"
   ]
  },
  {
   "cell_type": "markdown",
   "id": "731bdd25",
   "metadata": {},
   "source": [
    "<font color=\"blue\"> Your thoughts here </font>"
   ]
  },
  {
   "cell_type": "code",
   "execution_count": 19,
   "id": "1cf92ae9",
   "metadata": {},
   "outputs": [],
   "source": [
    "#Your code here"
   ]
  },
  {
   "cell_type": "markdown",
   "id": "bf074f4b",
   "metadata": {},
   "source": [
    "## Cleaning up the store information.\n",
    "\n",
    "As hinted at above, the presence of the `\"` meant the two of the columns--one containing the store type/number and the other contain the address/phone number--are combined together.  This was done because some of these entries have a different number of variables.  For example, the store type/number column sometimes occasionally `Gas`.\n",
    "\n",
    "In this part of the activity, you should apply the iterative OpenRefine approach to separate the information in the store column.\n",
    "\n",
    "**Warning!** There is one entry that doesn't follow the same pattern as the rest.  You won't find this entry unless you carefully define/fix/eliminate patterns."
   ]
  },
  {
   "cell_type": "code",
   "execution_count": 55,
   "id": "920e6069",
   "metadata": {},
   "outputs": [],
   "source": [
    "from more_dfply import case_when, ifelse\n",
    "from more_dfply.facets import text_facet, text_filter\n",
    "\n",
    "# Your code here."
   ]
  },
  {
   "cell_type": "code",
   "execution_count": 56,
   "id": "05be142b",
   "metadata": {},
   "outputs": [],
   "source": [
    "# View cell"
   ]
  },
  {
   "cell_type": "code",
   "execution_count": 57,
   "id": "26904a85",
   "metadata": {},
   "outputs": [],
   "source": [
    "# Transform cell"
   ]
  },
  {
   "cell_type": "markdown",
   "id": "aa609e49",
   "metadata": {},
   "source": [
    "## Preview of Coming Attractions\n",
    "\n",
    "In this module's homework assignment, you will continue to clean up this data set."
   ]
  }
 ],
 "metadata": {
  "kernelspec": {
   "display_name": "Python 3 (ipykernel)",
   "language": "python",
   "name": "python3"
  },
  "language_info": {
   "codemirror_mode": {
    "name": "ipython",
    "version": 3
   },
   "file_extension": ".py",
   "mimetype": "text/x-python",
   "name": "python",
   "nbconvert_exporter": "python",
   "pygments_lexer": "ipython3",
   "version": "3.9.12"
  }
 },
 "nbformat": 4,
 "nbformat_minor": 5
}
